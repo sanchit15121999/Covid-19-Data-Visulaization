{
 "cells": [
  {
   "cell_type": "markdown",
   "metadata": {},
   "source": [
    "# Covid 19 Data Visualization And Pridiction"
   ]
  },
  {
   "cell_type": "code",
   "execution_count": 1,
   "metadata": {
    "ExecuteTime": {
     "end_time": "2020-09-24T17:22:01.566094Z",
     "start_time": "2020-09-24T17:21:58.526508Z"
    }
   },
   "outputs": [
    {
     "name": "stdout",
     "output_type": "stream",
     "text": [
      "   Sno      Date     Time State/UnionTerritory ConfirmedIndianNational  \\\n",
      "0    1  30/01/20  6:00 PM               Kerala                       1   \n",
      "1    2  31/01/20  6:00 PM               Kerala                       1   \n",
      "2    3  01/02/20  6:00 PM               Kerala                       2   \n",
      "3    4  02/02/20  6:00 PM               Kerala                       3   \n",
      "4    5  03/02/20  6:00 PM               Kerala                       3   \n",
      "\n",
      "  ConfirmedForeignNational  Cured  Deaths  Confirmed  \n",
      "0                        0      0       0          1  \n",
      "1                        0      0       0          1  \n",
      "2                        0      0       0          2  \n",
      "3                        0      0       0          3  \n",
      "4                        0      0       0          3  \n",
      "Sno                         0\n",
      "Date                        0\n",
      "Time                        0\n",
      "State/UnionTerritory        0\n",
      "ConfirmedIndianNational     0\n",
      "ConfirmedForeignNational    0\n",
      "Cured                       0\n",
      "Deaths                      0\n",
      "Confirmed                   0\n",
      "dtype: int64\n",
      "Date                    object\n",
      "State/UnionTerritory    object\n",
      "Deaths                   int64\n",
      "Confirmed                int64\n",
      "dtype: object\n",
      "Date                    datetime64[ns]\n",
      "State/UnionTerritory            object\n",
      "Deaths                           int64\n",
      "Confirmed                        int64\n",
      "dtype: object\n",
      "                            State       Date  Total Cases  Total Deaths\n",
      "6630                  West Bengal 2020-09-24       234673          4544\n",
      "6629                  West Bengal 2020-09-23       231484          4483\n",
      "6628                  West Bengal 2020-09-22       228302          4421\n",
      "6627                  West Bengal 2020-09-21       225137          4359\n",
      "6626                  West Bengal 2020-09-20       221960          4298\n",
      "6625                  West Bengal 2020-09-19       218772          4242\n",
      "6624                  West Bengal 2020-09-18       215580          4183\n",
      "6623                  West Bengal 2020-09-17       212383          4123\n",
      "6622                  West Bengal 2020-09-16       209146          4062\n",
      "6621                  West Bengal 2020-09-15       205919          4003\n",
      "6620                  West Bengal 2020-09-14       202708          3945\n",
      "6619                  West Bengal 2020-09-13       199493          3887\n",
      "6618                  West Bengal 2020-09-12       196332          3828\n",
      "6617                  West Bengal 2020-09-11       193175          3771\n",
      "6616                  West Bengal 2020-09-10       190063          3730\n",
      "6615                  West Bengal 2020-09-09       186956          3677\n",
      "6614                  West Bengal 2020-09-08       183865          3620\n",
      "6613                  West Bengal 2020-09-07       180788          3562\n",
      "6612                  West Bengal 2020-09-06       177701          3510\n",
      "6611                  West Bengal 2020-09-05       174659          3452\n",
      "6610                  West Bengal 2020-09-04       171681          3394\n",
      "6609                  West Bengal 2020-09-03       168697          3339\n",
      "6608                  West Bengal 2020-09-02       165721          3283\n",
      "6607                  West Bengal 2020-09-01       162778          3228\n",
      "6606                  West Bengal 2020-08-31       159785          3176\n",
      "6605                  West Bengal 2020-08-30       156766          3126\n",
      "6604                  West Bengal 2020-08-29       153754          3073\n",
      "6603                  West Bengal 2020-08-28       150772          3017\n",
      "6602                  West Bengal 2020-08-27       147775          2964\n",
      "6601                  West Bengal 2020-08-26       144801          2909\n",
      "...                           ...        ...          ...           ...\n",
      "29    Andaman and Nicobar Islands 2020-04-24           22             0\n",
      "28    Andaman and Nicobar Islands 2020-04-23           18             0\n",
      "27    Andaman and Nicobar Islands 2020-04-22           17             0\n",
      "26    Andaman and Nicobar Islands 2020-04-21           16             0\n",
      "25    Andaman and Nicobar Islands 2020-04-20           15             0\n",
      "24    Andaman and Nicobar Islands 2020-04-19           14             0\n",
      "23    Andaman and Nicobar Islands 2020-04-18           12             0\n",
      "22    Andaman and Nicobar Islands 2020-04-17           11             0\n",
      "21    Andaman and Nicobar Islands 2020-04-16           11             0\n",
      "20    Andaman and Nicobar Islands 2020-04-15           11             0\n",
      "19    Andaman and Nicobar Islands 2020-04-14           11             0\n",
      "18    Andaman and Nicobar Islands 2020-04-13           11             0\n",
      "17    Andaman and Nicobar Islands 2020-04-12           11             0\n",
      "16    Andaman and Nicobar Islands 2020-04-11           11             0\n",
      "15    Andaman and Nicobar Islands 2020-04-10           11             0\n",
      "14    Andaman and Nicobar Islands 2020-04-09           11             0\n",
      "13    Andaman and Nicobar Islands 2020-04-08           10             0\n",
      "12    Andaman and Nicobar Islands 2020-04-07           10             0\n",
      "11    Andaman and Nicobar Islands 2020-04-06           10             0\n",
      "10    Andaman and Nicobar Islands 2020-04-05           10             0\n",
      "9     Andaman and Nicobar Islands 2020-04-04           10             0\n",
      "8     Andaman and Nicobar Islands 2020-04-03           10             0\n",
      "7     Andaman and Nicobar Islands 2020-04-02           10             0\n",
      "6     Andaman and Nicobar Islands 2020-04-01           10             0\n",
      "5     Andaman and Nicobar Islands 2020-03-31           10             0\n",
      "4     Andaman and Nicobar Islands 2020-03-30            9             0\n",
      "3     Andaman and Nicobar Islands 2020-03-29            9             0\n",
      "2     Andaman and Nicobar Islands 2020-03-28            6             0\n",
      "1     Andaman and Nicobar Islands 2020-03-27            1             0\n",
      "0     Andaman and Nicobar Islands 2020-03-26            1             0\n",
      "\n",
      "[6631 rows x 4 columns]\n"
     ]
    }
   ],
   "source": [
    "import pandas as pd\n",
    "import datetime as dt\n",
    "from matplotlib import pyplot as plt\n",
    "import seaborn as sns\n",
    "\n",
    "\n",
    "CVD = pd.read_csv(r\"D:\\STUDY 5\\SCM Project/covid_19_india.csv\")\n",
    "print(CVD.head())\n",
    "\n",
    "#Check for missing data\n",
    "print(CVD.isnull().sum()) #No missing data\n",
    "CVD=CVD.dropna()\n",
    "\n",
    "\n",
    "CVD.drop(['Sno', 'Time', 'Cured', 'ConfirmedIndianNational', 'ConfirmedForeignNational'], axis=1, inplace=True)\n",
    "\n",
    "print(CVD.dtypes)\n",
    "\n",
    "# Convert string values of date to datetime format\n",
    "#CVD['Date'] = CVD['Date'].astype(str)\n",
    "CVD['Date'] = [dt.datetime.strptime(x,'%d/%m/%y') for x in CVD['Date']] \n",
    "print(CVD.dtypes)\n",
    "\n",
    "\n",
    "\n",
    "#Change column titles to something appropriate\n",
    "CVD.columns = ['Date', 'State', 'Total Deaths', 'Total Cases']\n",
    "\n",
    "#Group them by location and date, select only total cases and deaths for closer observation\n",
    "#Reset index because groupby by default makes grouped columns indices\n",
    "CVD = pd.DataFrame(CVD.groupby(['State', 'Date'])['Total Cases', 'Total Deaths'].sum()).reset_index()\n",
    "\n",
    "#Sort values by each country and by date - descending. Easy to interpret plots\n",
    "CVD = CVD.sort_values(by = ['State','Date'], ascending=False)\n",
    "print(CVD)"
   ]
  },
  {
   "cell_type": "code",
   "execution_count": 2,
   "metadata": {
    "ExecuteTime": {
     "end_time": "2020-09-24T17:22:02.361174Z",
     "start_time": "2020-09-24T17:22:01.569198Z"
    }
   },
   "outputs": [
    {
     "data": {
      "image/png": "[encoded data removed]",
      "text/plain": [
       "<Figure size 1152x288 with 1 Axes>"
      ]
     },
     "metadata": {
      "needs_background": "light"
     },
     "output_type": "display_data"
    },
    {
     "data": {
      "image/png": "[encoded data removed]",
      "text/plain": [
       "<Figure size 1152x288 with 1 Axes>"
      ]
     },
     "metadata": {
      "needs_background": "light"
     },
     "output_type": "display_data"
    }
   ],
   "source": [
    "#Plot cases and deaths as bar plot for top 10 countries\n",
    "#Function to plot bar plots using Seaborn.\n",
    "\n",
    "def plot_bar(feature, value, title, df, size):\n",
    "    f, ax = plt.subplots(1,1, figsize=(4*size,4))\n",
    "    df = df.sort_values([value], ascending=False).reset_index(drop=True)\n",
    "    g = sns.barplot(df[feature][0:10], df[value][0:10], palette='Set3')\n",
    "    g.set_title(\"Number of {} - highest 10 values\".format(title))\n",
    "#    ax.set_xticklabels(ax.get_xticklabels(),rotation=90)\n",
    "    plt.show()    \n",
    "\n",
    "filtered_CVD = CVD.drop_duplicates(subset = ['State'], keep='first')\n",
    "plot_bar('State', 'Total Cases', 'Total cases in India', filtered_CVD, size=4)\n",
    "plot_bar('State', 'Total Deaths', 'Total deaths in India', filtered_CVD, size=4)"
   ]
  },
  {
   "cell_type": "code",
   "execution_count": 3,
   "metadata": {
    "ExecuteTime": {
     "end_time": "2020-09-24T17:22:03.048416Z",
     "start_time": "2020-09-24T17:22:02.364628Z"
    }
   },
   "outputs": [
    {
     "name": "stdout",
     "output_type": "stream",
     "text": [
      "          Date  Total Cases  Total Deaths\n",
      "0   2020-01-30            1             0\n",
      "1   2020-01-31            1             0\n",
      "2   2020-02-01            2             0\n",
      "3   2020-02-02            3             0\n",
      "4   2020-02-03            3             0\n",
      "5   2020-02-04            3             0\n",
      "6   2020-02-05            3             0\n",
      "7   2020-02-06            3             0\n",
      "8   2020-02-07            3             0\n",
      "9   2020-02-08            3             0\n",
      "10  2020-02-09            3             0\n",
      "11  2020-02-10            3             0\n",
      "12  2020-02-11            3             0\n",
      "13  2020-02-12            3             0\n",
      "14  2020-02-13            3             0\n",
      "15  2020-02-14            3             0\n",
      "16  2020-02-15            3             0\n",
      "17  2020-02-16            3             0\n",
      "18  2020-02-17            3             0\n",
      "19  2020-02-18            3             0\n",
      "20  2020-02-19            3             0\n",
      "21  2020-02-20            3             0\n",
      "22  2020-02-21            3             0\n",
      "23  2020-02-22            3             0\n",
      "24  2020-02-23            3             0\n",
      "25  2020-02-24            3             0\n",
      "26  2020-02-25            3             0\n",
      "27  2020-02-26            3             0\n",
      "28  2020-02-27            3             0\n",
      "29  2020-02-28            3             0\n",
      "..         ...          ...           ...\n",
      "209 2020-08-26      3234474         59449\n",
      "210 2020-08-27      3310234         60472\n",
      "211 2020-08-28      3387500         61529\n",
      "212 2020-08-29      3463972         62550\n",
      "213 2020-08-30      3542733         63498\n",
      "214 2020-08-31      3621245         64469\n",
      "215 2020-09-01      3691166         65288\n",
      "216 2020-09-02      3769523         66333\n",
      "217 2020-09-03      3853406         67376\n",
      "218 2020-09-04      3936747         68472\n",
      "219 2020-09-05      4023179         69561\n",
      "220 2020-09-06      4113811         70626\n",
      "221 2020-09-07      4204613         71642\n",
      "222 2020-09-08      4280422         72775\n",
      "223 2020-09-09      4370128         73890\n",
      "224 2020-09-10      4465863         75062\n",
      "225 2020-09-11      4562414         76271\n",
      "226 2020-09-12      4659984         77472\n",
      "227 2020-09-13      4754356         78586\n",
      "228 2020-09-14      4846427         79722\n",
      "229 2020-09-15      4930236         80776\n",
      "230 2020-09-16      5020359         82066\n",
      "231 2020-09-17      5118253         83198\n",
      "232 2020-09-18      5214677         84372\n",
      "233 2020-09-19      5308014         85619\n",
      "234 2020-09-20      5400619         86752\n",
      "235 2020-09-21      5487580         87882\n",
      "236 2020-09-22      5562663         88935\n",
      "237 2020-09-23      5646010         90020\n",
      "238 2020-09-24      5732518         91149\n",
      "\n",
      "[239 rows x 3 columns]\n"
     ]
    },
    {
     "name": "stderr",
     "output_type": "stream",
     "text": [
      "C:\\Users\\Hp\\anaconda3\\lib\\site-packages\\pandas\\plotting\\_converter.py:129: FutureWarning: Using an implicitly registered datetime converter for a matplotlib plotting method. The converter was registered by pandas on import. Future versions of pandas will require you to explicitly register matplotlib converters.\n",
      "\n",
      "To register the converters:\n",
      "\t>>> from pandas.plotting import register_matplotlib_converters\n",
      "\t>>> register_matplotlib_converters()\n",
      "  warnings.warn(msg, FutureWarning)\n"
     ]
    },
    {
     "data": {
      "image/png": "[encoded data removed]",
      "text/plain": [
       "<Figure size 1152x576 with 1 Axes>"
      ]
     },
     "metadata": {
      "needs_background": "light"
     },
     "output_type": "display_data"
    }
   ],
   "source": [
    "#Plot world aggregate numbers for total cases and deaths. \n",
    "def plot_world_aggregate(df, title='Aggregate plot', size=1):\n",
    "    f, ax = plt.subplots(1,1, figsize=(4*size,2*size))\n",
    "    g = sns.lineplot(x=\"Date\", y='Total Cases', data=df, color='blue', label='Total Cases')\n",
    "    g = sns.lineplot(x=\"Date\", y='Total Deaths', data=df, color='red', label='Total Deaths')\n",
    "    plt.xlabel('Date')\n",
    "    plt.ylabel(f'Total {title} cases')\n",
    "    plt.xticks(rotation=90)\n",
    "    plt.title(f'Total {title} cases')\n",
    "    ax.grid(color='black', linestyle='dotted', linewidth=0.75)\n",
    "    plt.show()  \n",
    "\n",
    "#Group by dates. \n",
    "#Reset index because groupby by default makes grouped columns indices\n",
    "#Sum values from all countries per given date\n",
    "CVD_aggregate = CVD.groupby(['Date']).sum().reset_index()\n",
    "print(CVD_aggregate)\n",
    "\n",
    "plot_world_aggregate(CVD_aggregate, 'All India', size=4)"
   ]
  },
  {
   "cell_type": "code",
   "execution_count": 4,
   "metadata": {
    "ExecuteTime": {
     "end_time": "2020-09-24T17:22:05.307635Z",
     "start_time": "2020-09-24T17:22:03.051140Z"
    }
   },
   "outputs": [
    {
     "data": {
      "image/png": "[encoded data removed]",
      "text/plain": [
       "<Figure size 1152x864 with 1 Axes>"
      ]
     },
     "metadata": {
      "needs_background": "light"
     },
     "output_type": "display_data"
    },
    {
     "data": {
      "image/png": "[encoded data removed]",
      "text/plain": [
       "<Figure size 1152x864 with 1 Axes>"
      ]
     },
     "metadata": {
      "needs_background": "light"
     },
     "output_type": "display_data"
    }
   ],
   "source": [
    "#Plot aggregate numbers for total cases and deaths for select countries. \n",
    "#Starting from Feb 15th \n",
    "\n",
    "def plot_aggregate_states(df, states, case_type='Total Cases', size=3, is_log=False):\n",
    "    f, ax = plt.subplots(1,1, figsize=(4*size, 3*size))\n",
    "    for state in states:\n",
    "        df_ = df[(df['State']==state) & (df['Date'] > '2020-03-01')] \n",
    "        g = sns.lineplot(x=\"Date\", y=case_type, data=df_,  label=state)  \n",
    "        ax.text(max(df_['Date']), max(df_[case_type]), str(state))\n",
    "    plt.xlabel('Date')\n",
    "    plt.ylabel(f' {case_type} ')\n",
    "    plt.title(f' {case_type} ')\n",
    "    plt.xticks(rotation=90)\n",
    "    if(is_log):\n",
    "        ax.set(yscale=\"log\")\n",
    "    ax.grid(color='black', linestyle='dotted', linewidth=0.75)\n",
    "    plt.show()\n",
    "CVD_state_aggregate = CVD.groupby(['State', 'Date']).sum().reset_index()\n",
    "\n",
    "states = [\"Maharashtra\", \"Kerala\", \"Karnataka\", \"Telengana\", \n",
    "                         \"Uttar Pradesh\", \"Andhra Pradesh\"]\n",
    "plot_aggregate_states(CVD_state_aggregate, states, case_type = 'Total Cases', size=4)    \n",
    "\n",
    "plot_aggregate_states(CVD_state_aggregate, states, case_type = 'Total Deaths', size=4)\n",
    "\n",
    "#log scale\n",
    "#plot_aggregate_states(CVD_state_aggregate, states, case_type = 'Total Cases', size=4, is_log=True)"
   ]
  },
  {
   "cell_type": "code",
   "execution_count": 5,
   "metadata": {
    "ExecuteTime": {
     "end_time": "2020-09-24T17:22:05.802460Z",
     "start_time": "2020-09-24T17:22:05.309630Z"
    }
   },
   "outputs": [
    {
     "data": {
      "image/png": "[encoded data removed]",
      "text/plain": [
       "<Figure size 864x432 with 1 Axes>"
      ]
     },
     "metadata": {
      "needs_background": "light"
     },
     "output_type": "display_data"
    }
   ],
   "source": [
    "#Calculate MORTALITY and plot\n",
    "\n",
    "def plot_mortality(df, title='Mortality', size=1):\n",
    "    f, ax = plt.subplots(1,1, figsize=(4*size,2*size))\n",
    "    g = sns.lineplot(x=\"Date\", y='Mortality (Deaths/Cases)', data=df, color='blue', label='Mortality (Deaths / Total Cases)')\n",
    "    plt.xlabel('Date')\n",
    "    plt.ylabel(f'Mortality {title} [%]')\n",
    "    plt.xticks(rotation=90)\n",
    "    plt.title(f'Mortality percent {title}\\nCalculated as Deaths/Confirmed cases')\n",
    "    ax.grid(color='black', linestyle='dashed', linewidth=1)\n",
    "    plt.show()  \n",
    "\n",
    "CVD_aggregate['Mortality (Deaths/Cases)'] = CVD_aggregate['Total Deaths'] / CVD_aggregate['Total Cases'] * 100\n",
    "plot_mortality(CVD_aggregate, title = ' - All India', size = 3)"
   ]
  },
  {
   "cell_type": "code",
   "execution_count": 6,
   "metadata": {
    "ExecuteTime": {
     "end_time": "2020-09-24T17:22:05.892467Z",
     "start_time": "2020-09-24T17:22:05.804501Z"
    }
   },
   "outputs": [],
   "source": [
    "#PREDICTION using exponential fit \n",
    "import numpy as np\n",
    "import scipy\n",
    "import seaborn as sns\n",
    "def plot_exponential_fit_data(d_df, title, delta):\n",
    "    d_df = d_df.sort_values(by=['Date'], ascending=True)\n",
    "    d_df['x'] = np.arange(len(d_df)) + 1  #Add column x to the dataframe \n",
    "    d_df['y'] = d_df['Total Cases']   #Add column y to the dataframe \n",
    "    x = d_df['x'][:-delta]  #Remove delta number of data points (so we can predict them)\n",
    "    y = d_df['y'][:-delta]  #Remove delta number of data points (so we can predict them)\n",
    "#Use non-linear least squares to fit a function, f, to data.\n",
    "#Let us fit data to exponential function: #y = Ae^(Bt)\n",
    "    \n",
    "    c2 = scipy.optimize.curve_fit(lambda t, a, b: a*np.exp(b*t),  x,  y,  p0=(20, 0.2)) \n",
    "# Function: lambda t, a, b: a*np.exp(b*t)\n",
    "# xm y and po for initial values. \n",
    "    \n",
    "    A, B = c2[0]  #Coefficients\n",
    "    print(f'(y = Ae^(Bx)) A: {A}, B: {B}\\n')\n",
    "    x = range(1,d_df.shape[0] + 1)\n",
    "    y_fit = A * np.exp(B * x)\n",
    "#    print(y_fit)\n",
    "    f, ax = plt.subplots(1,1, figsize=(12,6))\n",
    "    g = sns.scatterplot(x=d_df['x'][:-delta], y=d_df['y'][:-delta], label='Confirmed cases (used for model creation)', color='red')\n",
    "    g = sns.scatterplot(x=d_df['x'][-delta:], y=d_df['y'][-delta:], label='Confirmed cases (not used for model, va;idation)', color='blue')\n",
    "    g = sns.lineplot(x=x, y=y_fit, label='Predicted values', color='green')  #Predicted\n",
    "    x_future=range(89,95) #As of 24 March 2020 we have 85 days of info. \n",
    "    y_future=A * np.exp(B * x_future)\n",
    "    print(\"Expected cases for the next 5 days: \\n\", y_future)\n",
    "    plt.xlabel('Days since first case')\n",
    "    plt.ylabel(f'Total cases')\n",
    "    plt.title(f'Confirmed cases & projected cases: {title}')\n",
    "    plt.xticks(rotation=90)\n",
    "    ax.grid(color='black', linestyle='dotted', linewidth=0.75)\n",
    "    plt.show()"
   ]
  },
  {
   "cell_type": "code",
   "execution_count": 7,
   "metadata": {
    "ExecuteTime": {
     "end_time": "2020-09-24T17:22:06.692643Z",
     "start_time": "2020-09-24T17:22:05.895445Z"
    }
   },
   "outputs": [
    {
     "name": "stdout",
     "output_type": "stream",
     "text": [
      "(y = Ae^(Bx)) A: 1382.0809032721015, B: 0.032474125699443704\n",
      "\n",
      "Expected cases for the next 5 days: \n",
      " [24873.11376434 25694.104721   26542.19426119 27418.27683231\n",
      " 28323.27640493 29258.14744728]\n"
     ]
    },
    {
     "data": {
      "image/png": "[encoded data removed]",
      "text/plain": [
       "<Figure size 864x432 with 1 Axes>"
      ]
     },
     "metadata": {
      "needs_background": "light"
     },
     "output_type": "display_data"
    }
   ],
   "source": [
    "#All India\n",
    "#CVD_India = CVD_aggregate\n",
    "CVD_Maharashtra = CVD_state_aggregate[CVD_state_aggregate['State']=='Maharashtra']\n",
    "CVD_Telangana = CVD_state_aggregate[CVD_state_aggregate['State']=='Telengana']\n",
    "CVD_Andhra = CVD_state_aggregate[CVD_state_aggregate['State']=='Andhra Pradesh']\n",
    "d_df = CVD_Andhra.copy()\n",
    "plot_exponential_fit_data(d_df, 'Telangana', 5)"
   ]
  },
  {
   "cell_type": "code",
   "execution_count": 8,
   "metadata": {
    "ExecuteTime": {
     "end_time": "2020-09-24T17:22:06.762747Z",
     "start_time": "2020-09-24T17:22:06.695485Z"
    }
   },
   "outputs": [],
   "source": [
    "df=pd.read_excel(\"D:\\STUDY 5\\SCM Project/State Cases.xlsx\")"
   ]
  },
  {
   "cell_type": "code",
   "execution_count": 9,
   "metadata": {
    "ExecuteTime": {
     "end_time": "2020-09-24T17:22:06.786636Z",
     "start_time": "2020-09-24T17:22:06.766724Z"
    }
   },
   "outputs": [
    {
     "data": {
      "text/html": [
       "<div>\n",
       "<style scoped>\n",
       "    .dataframe tbody tr th:only-of-type {\n",
       "        vertical-align: middle;\n",
       "    }\n",
       "\n",
       "    .dataframe tbody tr th {\n",
       "        vertical-align: top;\n",
       "    }\n",
       "\n",
       "    .dataframe thead th {\n",
       "        text-align: right;\n",
       "    }\n",
       "</style>\n",
       "<table border=\"1\" class=\"dataframe\">\n",
       "  <thead>\n",
       "    <tr style=\"text-align: right;\">\n",
       "      <th></th>\n",
       "      <th>State</th>\n",
       "      <th>Convirmed</th>\n",
       "      <th>Recovery</th>\n",
       "      <th>Deaths</th>\n",
       "    </tr>\n",
       "  </thead>\n",
       "  <tbody>\n",
       "    <tr>\n",
       "      <th>0</th>\n",
       "      <td>Andaman and Nicobar Islands</td>\n",
       "      <td>3712</td>\n",
       "      <td>3494</td>\n",
       "      <td>52</td>\n",
       "    </tr>\n",
       "    <tr>\n",
       "      <th>1</th>\n",
       "      <td>Andhra Pradesh</td>\n",
       "      <td>654385</td>\n",
       "      <td>579474</td>\n",
       "      <td>5558</td>\n",
       "    </tr>\n",
       "    <tr>\n",
       "      <th>2</th>\n",
       "      <td>Arunachal Pradesh</td>\n",
       "      <td>8133</td>\n",
       "      <td>5903</td>\n",
       "      <td>14</td>\n",
       "    </tr>\n",
       "    <tr>\n",
       "      <th>3</th>\n",
       "      <td>Assam</td>\n",
       "      <td>163491</td>\n",
       "      <td>132709</td>\n",
       "      <td>597</td>\n",
       "    </tr>\n",
       "    <tr>\n",
       "      <th>4</th>\n",
       "      <td>Bihar</td>\n",
       "      <td>174266</td>\n",
       "      <td>159700</td>\n",
       "      <td>878</td>\n",
       "    </tr>\n",
       "    <tr>\n",
       "      <th>5</th>\n",
       "      <td>Chandigarh</td>\n",
       "      <td>10968</td>\n",
       "      <td>8342</td>\n",
       "      <td>144</td>\n",
       "    </tr>\n",
       "    <tr>\n",
       "      <th>6</th>\n",
       "      <td>Chhattisgarh</td>\n",
       "      <td>93351</td>\n",
       "      <td>56773</td>\n",
       "      <td>728</td>\n",
       "    </tr>\n",
       "    <tr>\n",
       "      <th>7</th>\n",
       "      <td>Dadar &amp; Nagar Haveli; Daman &amp; Diu</td>\n",
       "      <td>2944</td>\n",
       "      <td>2725</td>\n",
       "      <td>2</td>\n",
       "    </tr>\n",
       "    <tr>\n",
       "      <th>8</th>\n",
       "      <td>Delhi</td>\n",
       "      <td>260623</td>\n",
       "      <td>224375</td>\n",
       "      <td>5123</td>\n",
       "    </tr>\n",
       "    <tr>\n",
       "      <th>9</th>\n",
       "      <td>Goa</td>\n",
       "      <td>30552</td>\n",
       "      <td>24347</td>\n",
       "      <td>383</td>\n",
       "    </tr>\n",
       "    <tr>\n",
       "      <th>10</th>\n",
       "      <td>Gujarat</td>\n",
       "      <td>128787</td>\n",
       "      <td>109084</td>\n",
       "      <td>3381</td>\n",
       "    </tr>\n",
       "    <tr>\n",
       "      <th>11</th>\n",
       "      <td>Haryana</td>\n",
       "      <td>118554</td>\n",
       "      <td>98410</td>\n",
       "      <td>1255</td>\n",
       "    </tr>\n",
       "    <tr>\n",
       "      <th>12</th>\n",
       "      <td>Himachal Pradesh</td>\n",
       "      <td>13049</td>\n",
       "      <td>8937</td>\n",
       "      <td>135</td>\n",
       "    </tr>\n",
       "    <tr>\n",
       "      <th>13</th>\n",
       "      <td>Jammu and Kashmir</td>\n",
       "      <td>68614</td>\n",
       "      <td>48079</td>\n",
       "      <td>1084</td>\n",
       "    </tr>\n",
       "    <tr>\n",
       "      <th>14</th>\n",
       "      <td>Jharkhand</td>\n",
       "      <td>76438</td>\n",
       "      <td>62945</td>\n",
       "      <td>652</td>\n",
       "    </tr>\n",
       "    <tr>\n",
       "      <th>15</th>\n",
       "      <td>Karnataka</td>\n",
       "      <td>548557</td>\n",
       "      <td>444658</td>\n",
       "      <td>8331</td>\n",
       "    </tr>\n",
       "    <tr>\n",
       "      <th>16</th>\n",
       "      <td>Kerala</td>\n",
       "      <td>154456</td>\n",
       "      <td>107850</td>\n",
       "      <td>613</td>\n",
       "    </tr>\n",
       "    <tr>\n",
       "      <th>17</th>\n",
       "      <td>Ladakh</td>\n",
       "      <td>3933</td>\n",
       "      <td>2844</td>\n",
       "      <td>51</td>\n",
       "    </tr>\n",
       "    <tr>\n",
       "      <th>18</th>\n",
       "      <td>Lakshadweep</td>\n",
       "      <td>0</td>\n",
       "      <td>0</td>\n",
       "      <td>0</td>\n",
       "    </tr>\n",
       "    <tr>\n",
       "      <th>19</th>\n",
       "      <td>Madhya Pradesh</td>\n",
       "      <td>115361</td>\n",
       "      <td>90945</td>\n",
       "      <td>2122</td>\n",
       "    </tr>\n",
       "    <tr>\n",
       "      <th>20</th>\n",
       "      <td>Maharashtra</td>\n",
       "      <td>1282963</td>\n",
       "      <td>973214</td>\n",
       "      <td>34751</td>\n",
       "    </tr>\n",
       "    <tr>\n",
       "      <th>21</th>\n",
       "      <td>Manipur</td>\n",
       "      <td>9537</td>\n",
       "      <td>7378</td>\n",
       "      <td>62</td>\n",
       "    </tr>\n",
       "    <tr>\n",
       "      <th>22</th>\n",
       "      <td>Meghalaya</td>\n",
       "      <td>4961</td>\n",
       "      <td>2859</td>\n",
       "      <td>42</td>\n",
       "    </tr>\n",
       "    <tr>\n",
       "      <th>23</th>\n",
       "      <td>Mizoram</td>\n",
       "      <td>1759</td>\n",
       "      <td>1095</td>\n",
       "      <td>0</td>\n",
       "    </tr>\n",
       "    <tr>\n",
       "      <th>24</th>\n",
       "      <td>Nagaland</td>\n",
       "      <td>5671</td>\n",
       "      <td>4509</td>\n",
       "      <td>16</td>\n",
       "    </tr>\n",
       "    <tr>\n",
       "      <th>25</th>\n",
       "      <td>Odisha</td>\n",
       "      <td>192548</td>\n",
       "      <td>157265</td>\n",
       "      <td>789</td>\n",
       "    </tr>\n",
       "    <tr>\n",
       "      <th>26</th>\n",
       "      <td>Puducherry</td>\n",
       "      <td>24227</td>\n",
       "      <td>18893</td>\n",
       "      <td>481</td>\n",
       "    </tr>\n",
       "    <tr>\n",
       "      <th>27</th>\n",
       "      <td>Punjab</td>\n",
       "      <td>105220</td>\n",
       "      <td>81475</td>\n",
       "      <td>3066</td>\n",
       "    </tr>\n",
       "    <tr>\n",
       "      <th>28</th>\n",
       "      <td>Rajasthan</td>\n",
       "      <td>122720</td>\n",
       "      <td>102330</td>\n",
       "      <td>1397</td>\n",
       "    </tr>\n",
       "    <tr>\n",
       "      <th>29</th>\n",
       "      <td>Sikkim</td>\n",
       "      <td>2513</td>\n",
       "      <td>1928</td>\n",
       "      <td>29</td>\n",
       "    </tr>\n",
       "    <tr>\n",
       "      <th>30</th>\n",
       "      <td>Tamil Nadu</td>\n",
       "      <td>563691</td>\n",
       "      <td>508210</td>\n",
       "      <td>9076</td>\n",
       "    </tr>\n",
       "    <tr>\n",
       "      <th>31</th>\n",
       "      <td>Telangana</td>\n",
       "      <td>179246</td>\n",
       "      <td>148139</td>\n",
       "      <td>1070</td>\n",
       "    </tr>\n",
       "    <tr>\n",
       "      <th>32</th>\n",
       "      <td>Tripura</td>\n",
       "      <td>23786</td>\n",
       "      <td>16955</td>\n",
       "      <td>257</td>\n",
       "    </tr>\n",
       "    <tr>\n",
       "      <th>33</th>\n",
       "      <td>Uttar Pradesh</td>\n",
       "      <td>374277</td>\n",
       "      <td>307611</td>\n",
       "      <td>5366</td>\n",
       "    </tr>\n",
       "    <tr>\n",
       "      <th>34</th>\n",
       "      <td>Uttarakhand</td>\n",
       "      <td>44404</td>\n",
       "      <td>32154</td>\n",
       "      <td>542</td>\n",
       "    </tr>\n",
       "    <tr>\n",
       "      <th>35</th>\n",
       "      <td>West Bengal</td>\n",
       "      <td>237869</td>\n",
       "      <td>208042</td>\n",
       "      <td>4606</td>\n",
       "    </tr>\n",
       "  </tbody>\n",
       "</table>\n",
       "</div>"
      ],
      "text/plain": [
       "                                State  Convirmed  Recovery  Deaths\n",
       "0         Andaman and Nicobar Islands       3712      3494      52\n",
       "1                      Andhra Pradesh     654385    579474    5558\n",
       "2                   Arunachal Pradesh       8133      5903      14\n",
       "3                               Assam     163491    132709     597\n",
       "4                               Bihar     174266    159700     878\n",
       "5                          Chandigarh      10968      8342     144\n",
       "6                        Chhattisgarh      93351     56773     728\n",
       "7   Dadar & Nagar Haveli; Daman & Diu       2944      2725       2\n",
       "8                               Delhi     260623    224375    5123\n",
       "9                                 Goa      30552     24347     383\n",
       "10                            Gujarat     128787    109084    3381\n",
       "11                            Haryana     118554     98410    1255\n",
       "12                   Himachal Pradesh      13049      8937     135\n",
       "13                  Jammu and Kashmir      68614     48079    1084\n",
       "14                          Jharkhand      76438     62945     652\n",
       "15                          Karnataka     548557    444658    8331\n",
       "16                             Kerala     154456    107850     613\n",
       "17                             Ladakh       3933      2844      51\n",
       "18                        Lakshadweep          0         0       0\n",
       "19                     Madhya Pradesh     115361     90945    2122\n",
       "20                        Maharashtra    1282963    973214   34751\n",
       "21                            Manipur       9537      7378      62\n",
       "22                          Meghalaya       4961      2859      42\n",
       "23                            Mizoram       1759      1095       0\n",
       "24                           Nagaland       5671      4509      16\n",
       "25                             Odisha     192548    157265     789\n",
       "26                         Puducherry      24227     18893     481\n",
       "27                             Punjab     105220     81475    3066\n",
       "28                          Rajasthan     122720    102330    1397\n",
       "29                             Sikkim       2513      1928      29\n",
       "30                         Tamil Nadu     563691    508210    9076\n",
       "31                          Telangana     179246    148139    1070\n",
       "32                            Tripura      23786     16955     257\n",
       "33                      Uttar Pradesh     374277    307611    5366\n",
       "34                        Uttarakhand      44404     32154     542\n",
       "35                        West Bengal     237869    208042    4606"
      ]
     },
     "execution_count": 9,
     "metadata": {},
     "output_type": "execute_result"
    }
   ],
   "source": [
    "df"
   ]
  },
  {
   "cell_type": "code",
   "execution_count": 10,
   "metadata": {
    "ExecuteTime": {
     "end_time": "2020-09-24T17:22:08.431326Z",
     "start_time": "2020-09-24T17:22:06.789682Z"
    }
   },
   "outputs": [
    {
     "data": {
      "text/html": [
       "        <script type=\"text/javascript\">\n",
       "        window.PlotlyConfig = {MathJaxConfig: 'local'};\n",
       "        if (window.MathJax) {MathJax.Hub.Config({SVG: {font: \"STIX-Web\"}});}\n",
       "        if (typeof require !== 'undefined') {\n",
       "        require.undef(\"plotly\");\n",
       "        requirejs.config({\n",
       "            paths: {\n",
       "                'plotly': ['https://cdn.plot.ly/plotly-latest.min']\n",
       "            }\n",
       "        });\n",
       "        require(['plotly'], function(Plotly) {\n",
       "            window._Plotly = Plotly;\n",
       "        });\n",
       "        }\n",
       "        </script>\n",
       "        "
      ]
     },
     "metadata": {},
     "output_type": "display_data"
    },
    {
     "data": {
      "text/html": [
       "        <script type=\"text/javascript\">\n",
       "        window.PlotlyConfig = {MathJaxConfig: 'local'};\n",
       "        if (window.MathJax) {MathJax.Hub.Config({SVG: {font: \"STIX-Web\"}});}\n",
       "        if (typeof require !== 'undefined') {\n",
       "        require.undef(\"plotly\");\n",
       "        requirejs.config({\n",
       "            paths: {\n",
       "                'plotly': ['https://cdn.plot.ly/plotly-latest.min']\n",
       "            }\n",
       "        });\n",
       "        require(['plotly'], function(Plotly) {\n",
       "            window._Plotly = Plotly;\n",
       "        });\n",
       "        }\n",
       "        </script>\n",
       "        "
      ]
     },
     "metadata": {},
     "output_type": "display_data"
    }
   ],
   "source": [
    "import pandas as pd\n",
    "import matplotlib.pyplot as plt\n",
    "from matplotlib import style\n",
    "style.use('ggplot')\n",
    "%matplotlib inline\n",
    "\n",
    "import plotly\n",
    "import plotly.express as px\n",
    "import plotly.graph_objects as go\n",
    "#plt.rcParams['figure.figsize']=17,8\n",
    "import cufflinks as cf\n",
    "import plotly.offline as pyo\n",
    "from plotly.offline import init_notebook_mode,plot,iplot\n",
    "\n",
    "import folium\n",
    "pyo.init_notebook_mode(connected=True)\n",
    "cf.go_offline()"
   ]
  },
  {
   "cell_type": "code",
   "execution_count": 11,
   "metadata": {
    "ExecuteTime": {
     "end_time": "2020-09-24T17:22:08.605299Z",
     "start_time": "2020-09-24T17:22:08.435305Z"
    }
   },
   "outputs": [
    {
     "data": {
      "text/html": [
       "<style  type=\"text/css\" >\n",
       "    #T_798563e6_fe8a_11ea_82a7_10e7c6a9a761row0_col1 {\n",
       "            background-color:  #fff5f0;\n",
       "            color:  #000000;\n",
       "        }    #T_798563e6_fe8a_11ea_82a7_10e7c6a9a761row0_col2 {\n",
       "            background-color:  #fff5f0;\n",
       "            color:  #000000;\n",
       "        }    #T_798563e6_fe8a_11ea_82a7_10e7c6a9a761row0_col3 {\n",
       "            background-color:  #fff5f0;\n",
       "            color:  #000000;\n",
       "        }    #T_798563e6_fe8a_11ea_82a7_10e7c6a9a761row0_col4 {\n",
       "            background-color:  #fff5f0;\n",
       "            color:  #000000;\n",
       "        }    #T_798563e6_fe8a_11ea_82a7_10e7c6a9a761row1_col1 {\n",
       "            background-color:  #fa6648;\n",
       "            color:  #000000;\n",
       "        }    #T_798563e6_fe8a_11ea_82a7_10e7c6a9a761row1_col2 {\n",
       "            background-color:  #f24633;\n",
       "            color:  #000000;\n",
       "        }    #T_798563e6_fe8a_11ea_82a7_10e7c6a9a761row1_col3 {\n",
       "            background-color:  #fdd7c6;\n",
       "            color:  #000000;\n",
       "        }    #T_798563e6_fe8a_11ea_82a7_10e7c6a9a761row1_col4 {\n",
       "            background-color:  #fcbba1;\n",
       "            color:  #000000;\n",
       "        }    #T_798563e6_fe8a_11ea_82a7_10e7c6a9a761row2_col1 {\n",
       "            background-color:  #fff4ef;\n",
       "            color:  #000000;\n",
       "        }    #T_798563e6_fe8a_11ea_82a7_10e7c6a9a761row2_col2 {\n",
       "            background-color:  #fff4ef;\n",
       "            color:  #000000;\n",
       "        }    #T_798563e6_fe8a_11ea_82a7_10e7c6a9a761row2_col3 {\n",
       "            background-color:  #fff5f0;\n",
       "            color:  #000000;\n",
       "        }    #T_798563e6_fe8a_11ea_82a7_10e7c6a9a761row2_col4 {\n",
       "            background-color:  #fff4ee;\n",
       "            color:  #000000;\n",
       "        }    #T_798563e6_fe8a_11ea_82a7_10e7c6a9a761row3_col1 {\n",
       "            background-color:  #fee0d2;\n",
       "            color:  #000000;\n",
       "        }    #T_798563e6_fe8a_11ea_82a7_10e7c6a9a761row3_col2 {\n",
       "            background-color:  #fedecf;\n",
       "            color:  #000000;\n",
       "        }    #T_798563e6_fe8a_11ea_82a7_10e7c6a9a761row3_col3 {\n",
       "            background-color:  #fff2ec;\n",
       "            color:  #000000;\n",
       "        }    #T_798563e6_fe8a_11ea_82a7_10e7c6a9a761row3_col4 {\n",
       "            background-color:  #fee3d6;\n",
       "            color:  #000000;\n",
       "        }    #T_798563e6_fe8a_11ea_82a7_10e7c6a9a761row4_col1 {\n",
       "            background-color:  #fedecf;\n",
       "            color:  #000000;\n",
       "        }    #T_798563e6_fe8a_11ea_82a7_10e7c6a9a761row4_col2 {\n",
       "            background-color:  #fdd4c2;\n",
       "            color:  #000000;\n",
       "        }    #T_798563e6_fe8a_11ea_82a7_10e7c6a9a761row4_col3 {\n",
       "            background-color:  #fff1ea;\n",
       "            color:  #000000;\n",
       "        }    #T_798563e6_fe8a_11ea_82a7_10e7c6a9a761row4_col4 {\n",
       "            background-color:  #ffede5;\n",
       "            color:  #000000;\n",
       "        }    #T_798563e6_fe8a_11ea_82a7_10e7c6a9a761row5_col1 {\n",
       "            background-color:  #fff4ee;\n",
       "            color:  #000000;\n",
       "        }    #T_798563e6_fe8a_11ea_82a7_10e7c6a9a761row5_col2 {\n",
       "            background-color:  #fff4ee;\n",
       "            color:  #000000;\n",
       "        }    #T_798563e6_fe8a_11ea_82a7_10e7c6a9a761row5_col3 {\n",
       "            background-color:  #fff4ef;\n",
       "            color:  #000000;\n",
       "        }    #T_798563e6_fe8a_11ea_82a7_10e7c6a9a761row5_col4 {\n",
       "            background-color:  #fff4ee;\n",
       "            color:  #000000;\n",
       "        }    #T_798563e6_fe8a_11ea_82a7_10e7c6a9a761row6_col1 {\n",
       "            background-color:  #fee9df;\n",
       "            color:  #000000;\n",
       "        }    #T_798563e6_fe8a_11ea_82a7_10e7c6a9a761row6_col2 {\n",
       "            background-color:  #ffece3;\n",
       "            color:  #000000;\n",
       "        }    #T_798563e6_fe8a_11ea_82a7_10e7c6a9a761row6_col3 {\n",
       "            background-color:  #fff2eb;\n",
       "            color:  #000000;\n",
       "        }    #T_798563e6_fe8a_11ea_82a7_10e7c6a9a761row6_col4 {\n",
       "            background-color:  #fedfd0;\n",
       "            color:  #000000;\n",
       "        }    #T_798563e6_fe8a_11ea_82a7_10e7c6a9a761row7_col1 {\n",
       "            background-color:  #fff5f0;\n",
       "            color:  #000000;\n",
       "        }    #T_798563e6_fe8a_11ea_82a7_10e7c6a9a761row7_col2 {\n",
       "            background-color:  #fff5f0;\n",
       "            color:  #000000;\n",
       "        }    #T_798563e6_fe8a_11ea_82a7_10e7c6a9a761row7_col3 {\n",
       "            background-color:  #fff5f0;\n",
       "            color:  #000000;\n",
       "        }    #T_798563e6_fe8a_11ea_82a7_10e7c6a9a761row7_col4 {\n",
       "            background-color:  #fff5f0;\n",
       "            color:  #000000;\n",
       "        }    #T_798563e6_fe8a_11ea_82a7_10e7c6a9a761row8_col1 {\n",
       "            background-color:  #fdc9b3;\n",
       "            color:  #000000;\n",
       "        }    #T_798563e6_fe8a_11ea_82a7_10e7c6a9a761row8_col2 {\n",
       "            background-color:  #fcc1a8;\n",
       "            color:  #000000;\n",
       "        }    #T_798563e6_fe8a_11ea_82a7_10e7c6a9a761row8_col3 {\n",
       "            background-color:  #fedaca;\n",
       "            color:  #000000;\n",
       "        }    #T_798563e6_fe8a_11ea_82a7_10e7c6a9a761row8_col4 {\n",
       "            background-color:  #fee3d6;\n",
       "            color:  #000000;\n",
       "        }    #T_798563e6_fe8a_11ea_82a7_10e7c6a9a761row9_col1 {\n",
       "            background-color:  #fff1ea;\n",
       "            color:  #000000;\n",
       "        }    #T_798563e6_fe8a_11ea_82a7_10e7c6a9a761row9_col2 {\n",
       "            background-color:  #fff1ea;\n",
       "            color:  #000000;\n",
       "        }    #T_798563e6_fe8a_11ea_82a7_10e7c6a9a761row9_col3 {\n",
       "            background-color:  #fff4ee;\n",
       "            color:  #000000;\n",
       "        }    #T_798563e6_fe8a_11ea_82a7_10e7c6a9a761row9_col4 {\n",
       "            background-color:  #fff2eb;\n",
       "            color:  #000000;\n",
       "        }    #T_798563e6_fe8a_11ea_82a7_10e7c6a9a761row10_col1 {\n",
       "            background-color:  #fee5d8;\n",
       "            color:  #000000;\n",
       "        }    #T_798563e6_fe8a_11ea_82a7_10e7c6a9a761row10_col2 {\n",
       "            background-color:  #fee3d6;\n",
       "            color:  #000000;\n",
       "        }    #T_798563e6_fe8a_11ea_82a7_10e7c6a9a761row10_col3 {\n",
       "            background-color:  #fee5d9;\n",
       "            color:  #000000;\n",
       "        }    #T_798563e6_fe8a_11ea_82a7_10e7c6a9a761row10_col4 {\n",
       "            background-color:  #ffebe2;\n",
       "            color:  #000000;\n",
       "        }    #T_798563e6_fe8a_11ea_82a7_10e7c6a9a761row11_col1 {\n",
       "            background-color:  #fee6da;\n",
       "            color:  #000000;\n",
       "        }    #T_798563e6_fe8a_11ea_82a7_10e7c6a9a761row11_col2 {\n",
       "            background-color:  #fee5d8;\n",
       "            color:  #000000;\n",
       "        }    #T_798563e6_fe8a_11ea_82a7_10e7c6a9a761row11_col3 {\n",
       "            background-color:  #ffefe8;\n",
       "            color:  #000000;\n",
       "        }    #T_798563e6_fe8a_11ea_82a7_10e7c6a9a761row11_col4 {\n",
       "            background-color:  #feeae0;\n",
       "            color:  #000000;\n",
       "        }    #T_798563e6_fe8a_11ea_82a7_10e7c6a9a761row12_col1 {\n",
       "            background-color:  #fff4ee;\n",
       "            color:  #000000;\n",
       "        }    #T_798563e6_fe8a_11ea_82a7_10e7c6a9a761row12_col2 {\n",
       "            background-color:  #fff4ee;\n",
       "            color:  #000000;\n",
       "        }    #T_798563e6_fe8a_11ea_82a7_10e7c6a9a761row12_col3 {\n",
       "            background-color:  #fff5f0;\n",
       "            color:  #000000;\n",
       "        }    #T_798563e6_fe8a_11ea_82a7_10e7c6a9a761row12_col4 {\n",
       "            background-color:  #fff3ed;\n",
       "            color:  #000000;\n",
       "        }    #T_798563e6_fe8a_11ea_82a7_10e7c6a9a761row13_col1 {\n",
       "            background-color:  #ffece4;\n",
       "            color:  #000000;\n",
       "        }    #T_798563e6_fe8a_11ea_82a7_10e7c6a9a761row13_col2 {\n",
       "            background-color:  #ffede5;\n",
       "            color:  #000000;\n",
       "        }    #T_798563e6_fe8a_11ea_82a7_10e7c6a9a761row13_col3 {\n",
       "            background-color:  #fff0e9;\n",
       "            color:  #000000;\n",
       "        }    #T_798563e6_fe8a_11ea_82a7_10e7c6a9a761row13_col4 {\n",
       "            background-color:  #fee9df;\n",
       "            color:  #000000;\n",
       "        }    #T_798563e6_fe8a_11ea_82a7_10e7c6a9a761row14_col1 {\n",
       "            background-color:  #ffebe2;\n",
       "            color:  #000000;\n",
       "        }    #T_798563e6_fe8a_11ea_82a7_10e7c6a9a761row14_col2 {\n",
       "            background-color:  #feeae1;\n",
       "            color:  #000000;\n",
       "        }    #T_798563e6_fe8a_11ea_82a7_10e7c6a9a761row14_col3 {\n",
       "            background-color:  #fff2ec;\n",
       "            color:  #000000;\n",
       "        }    #T_798563e6_fe8a_11ea_82a7_10e7c6a9a761row14_col4 {\n",
       "            background-color:  #ffeee6;\n",
       "            color:  #000000;\n",
       "        }    #T_798563e6_fe8a_11ea_82a7_10e7c6a9a761row15_col1 {\n",
       "            background-color:  #fc8161;\n",
       "            color:  #000000;\n",
       "        }    #T_798563e6_fe8a_11ea_82a7_10e7c6a9a761row15_col2 {\n",
       "            background-color:  #fb7858;\n",
       "            color:  #000000;\n",
       "        }    #T_798563e6_fe8a_11ea_82a7_10e7c6a9a761row15_col3 {\n",
       "            background-color:  #fcbea5;\n",
       "            color:  #000000;\n",
       "        }    #T_798563e6_fe8a_11ea_82a7_10e7c6a9a761row15_col4 {\n",
       "            background-color:  #fc9c7d;\n",
       "            color:  #000000;\n",
       "        }    #T_798563e6_fe8a_11ea_82a7_10e7c6a9a761row16_col1 {\n",
       "            background-color:  #fee1d4;\n",
       "            color:  #000000;\n",
       "        }    #T_798563e6_fe8a_11ea_82a7_10e7c6a9a761row16_col2 {\n",
       "            background-color:  #fee3d6;\n",
       "            color:  #000000;\n",
       "        }    #T_798563e6_fe8a_11ea_82a7_10e7c6a9a761row16_col3 {\n",
       "            background-color:  #fff2ec;\n",
       "            color:  #000000;\n",
       "        }    #T_798563e6_fe8a_11ea_82a7_10e7c6a9a761row16_col4 {\n",
       "            background-color:  #fdd4c2;\n",
       "            color:  #000000;\n",
       "        }    #T_798563e6_fe8a_11ea_82a7_10e7c6a9a761row17_col1 {\n",
       "            background-color:  #fff5f0;\n",
       "            color:  #000000;\n",
       "        }    #T_798563e6_fe8a_11ea_82a7_10e7c6a9a761row17_col2 {\n",
       "            background-color:  #fff5f0;\n",
       "            color:  #000000;\n",
       "        }    #T_798563e6_fe8a_11ea_82a7_10e7c6a9a761row17_col3 {\n",
       "            background-color:  #fff5f0;\n",
       "            color:  #000000;\n",
       "        }    #T_798563e6_fe8a_11ea_82a7_10e7c6a9a761row17_col4 {\n",
       "            background-color:  #fff5f0;\n",
       "            color:  #000000;\n",
       "        }    #T_798563e6_fe8a_11ea_82a7_10e7c6a9a761row18_col1 {\n",
       "            background-color:  #fff5f0;\n",
       "            color:  #000000;\n",
       "        }    #T_798563e6_fe8a_11ea_82a7_10e7c6a9a761row18_col2 {\n",
       "            background-color:  #fff5f0;\n",
       "            color:  #000000;\n",
       "        }    #T_798563e6_fe8a_11ea_82a7_10e7c6a9a761row18_col3 {\n",
       "            background-color:  #fff5f0;\n",
       "            color:  #000000;\n",
       "        }    #T_798563e6_fe8a_11ea_82a7_10e7c6a9a761row18_col4 {\n",
       "            background-color:  #fff5f0;\n",
       "            color:  #000000;\n",
       "        }    #T_798563e6_fe8a_11ea_82a7_10e7c6a9a761row19_col1 {\n",
       "            background-color:  #fee6da;\n",
       "            color:  #000000;\n",
       "        }    #T_798563e6_fe8a_11ea_82a7_10e7c6a9a761row19_col2 {\n",
       "            background-color:  #fee6da;\n",
       "            color:  #000000;\n",
       "        }    #T_798563e6_fe8a_11ea_82a7_10e7c6a9a761row19_col3 {\n",
       "            background-color:  #ffebe2;\n",
       "            color:  #000000;\n",
       "        }    #T_798563e6_fe8a_11ea_82a7_10e7c6a9a761row19_col4 {\n",
       "            background-color:  #fee8dd;\n",
       "            color:  #000000;\n",
       "        }    #T_798563e6_fe8a_11ea_82a7_10e7c6a9a761row20_col1 {\n",
       "            background-color:  #67000d;\n",
       "            color:  #f1f1f1;\n",
       "        }    #T_798563e6_fe8a_11ea_82a7_10e7c6a9a761row20_col2 {\n",
       "            background-color:  #67000d;\n",
       "            color:  #f1f1f1;\n",
       "        }    #T_798563e6_fe8a_11ea_82a7_10e7c6a9a761row20_col3 {\n",
       "            background-color:  #67000d;\n",
       "            color:  #f1f1f1;\n",
       "        }    #T_798563e6_fe8a_11ea_82a7_10e7c6a9a761row20_col4 {\n",
       "            background-color:  #67000d;\n",
       "            color:  #f1f1f1;\n",
       "        }    #T_798563e6_fe8a_11ea_82a7_10e7c6a9a761row21_col1 {\n",
       "            background-color:  #fff4ef;\n",
       "            color:  #000000;\n",
       "        }    #T_798563e6_fe8a_11ea_82a7_10e7c6a9a761row21_col2 {\n",
       "            background-color:  #fff4ef;\n",
       "            color:  #000000;\n",
       "        }    #T_798563e6_fe8a_11ea_82a7_10e7c6a9a761row21_col3 {\n",
       "            background-color:  #fff5f0;\n",
       "            color:  #000000;\n",
       "        }    #T_798563e6_fe8a_11ea_82a7_10e7c6a9a761row21_col4 {\n",
       "            background-color:  #fff4ef;\n",
       "            color:  #000000;\n",
       "        }    #T_798563e6_fe8a_11ea_82a7_10e7c6a9a761row22_col1 {\n",
       "            background-color:  #fff5f0;\n",
       "            color:  #000000;\n",
       "        }    #T_798563e6_fe8a_11ea_82a7_10e7c6a9a761row22_col2 {\n",
       "            background-color:  #fff5f0;\n",
       "            color:  #000000;\n",
       "        }    #T_798563e6_fe8a_11ea_82a7_10e7c6a9a761row22_col3 {\n",
       "            background-color:  #fff5f0;\n",
       "            color:  #000000;\n",
       "        }    #T_798563e6_fe8a_11ea_82a7_10e7c6a9a761row22_col4 {\n",
       "            background-color:  #fff4ef;\n",
       "            color:  #000000;\n",
       "        }    #T_798563e6_fe8a_11ea_82a7_10e7c6a9a761row23_col1 {\n",
       "            background-color:  #fff5f0;\n",
       "            color:  #000000;\n",
       "        }    #T_798563e6_fe8a_11ea_82a7_10e7c6a9a761row23_col2 {\n",
       "            background-color:  #fff5f0;\n",
       "            color:  #000000;\n",
       "        }    #T_798563e6_fe8a_11ea_82a7_10e7c6a9a761row23_col3 {\n",
       "            background-color:  #fff5f0;\n",
       "            color:  #000000;\n",
       "        }    #T_798563e6_fe8a_11ea_82a7_10e7c6a9a761row23_col4 {\n",
       "            background-color:  #fff5f0;\n",
       "            color:  #000000;\n",
       "        }    #T_798563e6_fe8a_11ea_82a7_10e7c6a9a761row24_col1 {\n",
       "            background-color:  #fff4ef;\n",
       "            color:  #000000;\n",
       "        }    #T_798563e6_fe8a_11ea_82a7_10e7c6a9a761row24_col2 {\n",
       "            background-color:  #fff4ef;\n",
       "            color:  #000000;\n",
       "        }    #T_798563e6_fe8a_11ea_82a7_10e7c6a9a761row24_col3 {\n",
       "            background-color:  #fff5f0;\n",
       "            color:  #000000;\n",
       "        }    #T_798563e6_fe8a_11ea_82a7_10e7c6a9a761row24_col4 {\n",
       "            background-color:  #fff4ef;\n",
       "            color:  #000000;\n",
       "        }    #T_798563e6_fe8a_11ea_82a7_10e7c6a9a761row25_col1 {\n",
       "            background-color:  #fed9c9;\n",
       "            color:  #000000;\n",
       "        }    #T_798563e6_fe8a_11ea_82a7_10e7c6a9a761row25_col2 {\n",
       "            background-color:  #fdd5c4;\n",
       "            color:  #000000;\n",
       "        }    #T_798563e6_fe8a_11ea_82a7_10e7c6a9a761row25_col3 {\n",
       "            background-color:  #fff2eb;\n",
       "            color:  #000000;\n",
       "        }    #T_798563e6_fe8a_11ea_82a7_10e7c6a9a761row25_col4 {\n",
       "            background-color:  #fee0d2;\n",
       "            color:  #000000;\n",
       "        }    #T_798563e6_fe8a_11ea_82a7_10e7c6a9a761row26_col1 {\n",
       "            background-color:  #fff2ec;\n",
       "            color:  #000000;\n",
       "        }    #T_798563e6_fe8a_11ea_82a7_10e7c6a9a761row26_col2 {\n",
       "            background-color:  #fff2ec;\n",
       "            color:  #000000;\n",
       "        }    #T_798563e6_fe8a_11ea_82a7_10e7c6a9a761row26_col3 {\n",
       "            background-color:  #fff3ed;\n",
       "            color:  #000000;\n",
       "        }    #T_798563e6_fe8a_11ea_82a7_10e7c6a9a761row26_col4 {\n",
       "            background-color:  #fff2ec;\n",
       "            color:  #000000;\n",
       "        }    #T_798563e6_fe8a_11ea_82a7_10e7c6a9a761row27_col1 {\n",
       "            background-color:  #fee8dd;\n",
       "            color:  #000000;\n",
       "        }    #T_798563e6_fe8a_11ea_82a7_10e7c6a9a761row27_col2 {\n",
       "            background-color:  #fee7dc;\n",
       "            color:  #000000;\n",
       "        }    #T_798563e6_fe8a_11ea_82a7_10e7c6a9a761row27_col3 {\n",
       "            background-color:  #fee7db;\n",
       "            color:  #000000;\n",
       "        }    #T_798563e6_fe8a_11ea_82a7_10e7c6a9a761row27_col4 {\n",
       "            background-color:  #fee8de;\n",
       "            color:  #000000;\n",
       "        }    #T_798563e6_fe8a_11ea_82a7_10e7c6a9a761row28_col1 {\n",
       "            background-color:  #fee5d9;\n",
       "            color:  #000000;\n",
       "        }    #T_798563e6_fe8a_11ea_82a7_10e7c6a9a761row28_col2 {\n",
       "            background-color:  #fee4d8;\n",
       "            color:  #000000;\n",
       "        }    #T_798563e6_fe8a_11ea_82a7_10e7c6a9a761row28_col3 {\n",
       "            background-color:  #ffeee7;\n",
       "            color:  #000000;\n",
       "        }    #T_798563e6_fe8a_11ea_82a7_10e7c6a9a761row28_col4 {\n",
       "            background-color:  #feeae0;\n",
       "            color:  #000000;\n",
       "        }    #T_798563e6_fe8a_11ea_82a7_10e7c6a9a761row29_col1 {\n",
       "            background-color:  #fff5f0;\n",
       "            color:  #000000;\n",
       "        }    #T_798563e6_fe8a_11ea_82a7_10e7c6a9a761row29_col2 {\n",
       "            background-color:  #fff5f0;\n",
       "            color:  #000000;\n",
       "        }    #T_798563e6_fe8a_11ea_82a7_10e7c6a9a761row29_col3 {\n",
       "            background-color:  #fff5f0;\n",
       "            color:  #000000;\n",
       "        }    #T_798563e6_fe8a_11ea_82a7_10e7c6a9a761row29_col4 {\n",
       "            background-color:  #fff5f0;\n",
       "            color:  #000000;\n",
       "        }    #T_798563e6_fe8a_11ea_82a7_10e7c6a9a761row30_col1 {\n",
       "            background-color:  #fb7d5d;\n",
       "            color:  #000000;\n",
       "        }    #T_798563e6_fe8a_11ea_82a7_10e7c6a9a761row30_col2 {\n",
       "            background-color:  #f96245;\n",
       "            color:  #000000;\n",
       "        }    #T_798563e6_fe8a_11ea_82a7_10e7c6a9a761row30_col3 {\n",
       "            background-color:  #fcb89e;\n",
       "            color:  #000000;\n",
       "        }    #T_798563e6_fe8a_11ea_82a7_10e7c6a9a761row30_col4 {\n",
       "            background-color:  #fdd3c1;\n",
       "            color:  #000000;\n",
       "        }    #T_798563e6_fe8a_11ea_82a7_10e7c6a9a761row31_col1 {\n",
       "            background-color:  #fedccd;\n",
       "            color:  #000000;\n",
       "        }    #T_798563e6_fe8a_11ea_82a7_10e7c6a9a761row31_col2 {\n",
       "            background-color:  #fed9c9;\n",
       "            color:  #000000;\n",
       "        }    #T_798563e6_fe8a_11ea_82a7_10e7c6a9a761row31_col3 {\n",
       "            background-color:  #fff0e9;\n",
       "            color:  #000000;\n",
       "        }    #T_798563e6_fe8a_11ea_82a7_10e7c6a9a761row31_col4 {\n",
       "            background-color:  #fee3d7;\n",
       "            color:  #000000;\n",
       "        }    #T_798563e6_fe8a_11ea_82a7_10e7c6a9a761row32_col1 {\n",
       "            background-color:  #fff2ec;\n",
       "            color:  #000000;\n",
       "        }    #T_798563e6_fe8a_11ea_82a7_10e7c6a9a761row32_col2 {\n",
       "            background-color:  #fff2ec;\n",
       "            color:  #000000;\n",
       "        }    #T_798563e6_fe8a_11ea_82a7_10e7c6a9a761row32_col3 {\n",
       "            background-color:  #fff4ef;\n",
       "            color:  #000000;\n",
       "        }    #T_798563e6_fe8a_11ea_82a7_10e7c6a9a761row32_col4 {\n",
       "            background-color:  #fff1ea;\n",
       "            color:  #000000;\n",
       "        }    #T_798563e6_fe8a_11ea_82a7_10e7c6a9a761row33_col1 {\n",
       "            background-color:  #fcae92;\n",
       "            color:  #000000;\n",
       "        }    #T_798563e6_fe8a_11ea_82a7_10e7c6a9a761row33_col2 {\n",
       "            background-color:  #fca689;\n",
       "            color:  #000000;\n",
       "        }    #T_798563e6_fe8a_11ea_82a7_10e7c6a9a761row33_col3 {\n",
       "            background-color:  #fed8c7;\n",
       "            color:  #000000;\n",
       "        }    #T_798563e6_fe8a_11ea_82a7_10e7c6a9a761row33_col4 {\n",
       "            background-color:  #fcc3ab;\n",
       "            color:  #000000;\n",
       "        }    #T_798563e6_fe8a_11ea_82a7_10e7c6a9a761row34_col1 {\n",
       "            background-color:  #fff0e8;\n",
       "            color:  #000000;\n",
       "        }    #T_798563e6_fe8a_11ea_82a7_10e7c6a9a761row34_col2 {\n",
       "            background-color:  #fff0e8;\n",
       "            color:  #000000;\n",
       "        }    #T_798563e6_fe8a_11ea_82a7_10e7c6a9a761row34_col3 {\n",
       "            background-color:  #fff3ed;\n",
       "            color:  #000000;\n",
       "        }    #T_798563e6_fe8a_11ea_82a7_10e7c6a9a761row34_col4 {\n",
       "            background-color:  #ffeee7;\n",
       "            color:  #000000;\n",
       "        }    #T_798563e6_fe8a_11ea_82a7_10e7c6a9a761row35_col1 {\n",
       "            background-color:  #fdcebb;\n",
       "            color:  #000000;\n",
       "        }    #T_798563e6_fe8a_11ea_82a7_10e7c6a9a761row35_col2 {\n",
       "            background-color:  #fdc6b0;\n",
       "            color:  #000000;\n",
       "        }    #T_798563e6_fe8a_11ea_82a7_10e7c6a9a761row35_col3 {\n",
       "            background-color:  #fedfd0;\n",
       "            color:  #000000;\n",
       "        }    #T_798563e6_fe8a_11ea_82a7_10e7c6a9a761row35_col4 {\n",
       "            background-color:  #fee6da;\n",
       "            color:  #000000;\n",
       "        }</style><table id=\"T_798563e6_fe8a_11ea_82a7_10e7c6a9a761\" ><thead>    <tr>        <th class=\"blank level0\" ></th>        <th class=\"col_heading level0 col0\" >State</th>        <th class=\"col_heading level0 col1\" >Convirmed</th>        <th class=\"col_heading level0 col2\" >Recovery</th>        <th class=\"col_heading level0 col3\" >Deaths</th>        <th class=\"col_heading level0 col4\" >Active Cases</th>    </tr></thead><tbody>\n",
       "                <tr>\n",
       "                        <th id=\"T_798563e6_fe8a_11ea_82a7_10e7c6a9a761level0_row0\" class=\"row_heading level0 row0\" >0</th>\n",
       "                        <td id=\"T_798563e6_fe8a_11ea_82a7_10e7c6a9a761row0_col0\" class=\"data row0 col0\" >Andaman and Nicobar Islands</td>\n",
       "                        <td id=\"T_798563e6_fe8a_11ea_82a7_10e7c6a9a761row0_col1\" class=\"data row0 col1\" >3712</td>\n",
       "                        <td id=\"T_798563e6_fe8a_11ea_82a7_10e7c6a9a761row0_col2\" class=\"data row0 col2\" >3494</td>\n",
       "                        <td id=\"T_798563e6_fe8a_11ea_82a7_10e7c6a9a761row0_col3\" class=\"data row0 col3\" >52</td>\n",
       "                        <td id=\"T_798563e6_fe8a_11ea_82a7_10e7c6a9a761row0_col4\" class=\"data row0 col4\" >166</td>\n",
       "            </tr>\n",
       "            <tr>\n",
       "                        <th id=\"T_798563e6_fe8a_11ea_82a7_10e7c6a9a761level0_row1\" class=\"row_heading level0 row1\" >1</th>\n",
       "                        <td id=\"T_798563e6_fe8a_11ea_82a7_10e7c6a9a761row1_col0\" class=\"data row1 col0\" >Andhra Pradesh</td>\n",
       "                        <td id=\"T_798563e6_fe8a_11ea_82a7_10e7c6a9a761row1_col1\" class=\"data row1 col1\" >654385</td>\n",
       "                        <td id=\"T_798563e6_fe8a_11ea_82a7_10e7c6a9a761row1_col2\" class=\"data row1 col2\" >579474</td>\n",
       "                        <td id=\"T_798563e6_fe8a_11ea_82a7_10e7c6a9a761row1_col3\" class=\"data row1 col3\" >5558</td>\n",
       "                        <td id=\"T_798563e6_fe8a_11ea_82a7_10e7c6a9a761row1_col4\" class=\"data row1 col4\" >69353</td>\n",
       "            </tr>\n",
       "            <tr>\n",
       "                        <th id=\"T_798563e6_fe8a_11ea_82a7_10e7c6a9a761level0_row2\" class=\"row_heading level0 row2\" >2</th>\n",
       "                        <td id=\"T_798563e6_fe8a_11ea_82a7_10e7c6a9a761row2_col0\" class=\"data row2 col0\" >Arunachal Pradesh</td>\n",
       "                        <td id=\"T_798563e6_fe8a_11ea_82a7_10e7c6a9a761row2_col1\" class=\"data row2 col1\" >8133</td>\n",
       "                        <td id=\"T_798563e6_fe8a_11ea_82a7_10e7c6a9a761row2_col2\" class=\"data row2 col2\" >5903</td>\n",
       "                        <td id=\"T_798563e6_fe8a_11ea_82a7_10e7c6a9a761row2_col3\" class=\"data row2 col3\" >14</td>\n",
       "                        <td id=\"T_798563e6_fe8a_11ea_82a7_10e7c6a9a761row2_col4\" class=\"data row2 col4\" >2216</td>\n",
       "            </tr>\n",
       "            <tr>\n",
       "                        <th id=\"T_798563e6_fe8a_11ea_82a7_10e7c6a9a761level0_row3\" class=\"row_heading level0 row3\" >3</th>\n",
       "                        <td id=\"T_798563e6_fe8a_11ea_82a7_10e7c6a9a761row3_col0\" class=\"data row3 col0\" >Assam</td>\n",
       "                        <td id=\"T_798563e6_fe8a_11ea_82a7_10e7c6a9a761row3_col1\" class=\"data row3 col1\" >163491</td>\n",
       "                        <td id=\"T_798563e6_fe8a_11ea_82a7_10e7c6a9a761row3_col2\" class=\"data row3 col2\" >132709</td>\n",
       "                        <td id=\"T_798563e6_fe8a_11ea_82a7_10e7c6a9a761row3_col3\" class=\"data row3 col3\" >597</td>\n",
       "                        <td id=\"T_798563e6_fe8a_11ea_82a7_10e7c6a9a761row3_col4\" class=\"data row3 col4\" >30185</td>\n",
       "            </tr>\n",
       "            <tr>\n",
       "                        <th id=\"T_798563e6_fe8a_11ea_82a7_10e7c6a9a761level0_row4\" class=\"row_heading level0 row4\" >4</th>\n",
       "                        <td id=\"T_798563e6_fe8a_11ea_82a7_10e7c6a9a761row4_col0\" class=\"data row4 col0\" >Bihar</td>\n",
       "                        <td id=\"T_798563e6_fe8a_11ea_82a7_10e7c6a9a761row4_col1\" class=\"data row4 col1\" >174266</td>\n",
       "                        <td id=\"T_798563e6_fe8a_11ea_82a7_10e7c6a9a761row4_col2\" class=\"data row4 col2\" >159700</td>\n",
       "                        <td id=\"T_798563e6_fe8a_11ea_82a7_10e7c6a9a761row4_col3\" class=\"data row4 col3\" >878</td>\n",
       "                        <td id=\"T_798563e6_fe8a_11ea_82a7_10e7c6a9a761row4_col4\" class=\"data row4 col4\" >13688</td>\n",
       "            </tr>\n",
       "            <tr>\n",
       "                        <th id=\"T_798563e6_fe8a_11ea_82a7_10e7c6a9a761level0_row5\" class=\"row_heading level0 row5\" >5</th>\n",
       "                        <td id=\"T_798563e6_fe8a_11ea_82a7_10e7c6a9a761row5_col0\" class=\"data row5 col0\" >Chandigarh</td>\n",
       "                        <td id=\"T_798563e6_fe8a_11ea_82a7_10e7c6a9a761row5_col1\" class=\"data row5 col1\" >10968</td>\n",
       "                        <td id=\"T_798563e6_fe8a_11ea_82a7_10e7c6a9a761row5_col2\" class=\"data row5 col2\" >8342</td>\n",
       "                        <td id=\"T_798563e6_fe8a_11ea_82a7_10e7c6a9a761row5_col3\" class=\"data row5 col3\" >144</td>\n",
       "                        <td id=\"T_798563e6_fe8a_11ea_82a7_10e7c6a9a761row5_col4\" class=\"data row5 col4\" >2482</td>\n",
       "            </tr>\n",
       "            <tr>\n",
       "                        <th id=\"T_798563e6_fe8a_11ea_82a7_10e7c6a9a761level0_row6\" class=\"row_heading level0 row6\" >6</th>\n",
       "                        <td id=\"T_798563e6_fe8a_11ea_82a7_10e7c6a9a761row6_col0\" class=\"data row6 col0\" >Chhattisgarh</td>\n",
       "                        <td id=\"T_798563e6_fe8a_11ea_82a7_10e7c6a9a761row6_col1\" class=\"data row6 col1\" >93351</td>\n",
       "                        <td id=\"T_798563e6_fe8a_11ea_82a7_10e7c6a9a761row6_col2\" class=\"data row6 col2\" >56773</td>\n",
       "                        <td id=\"T_798563e6_fe8a_11ea_82a7_10e7c6a9a761row6_col3\" class=\"data row6 col3\" >728</td>\n",
       "                        <td id=\"T_798563e6_fe8a_11ea_82a7_10e7c6a9a761row6_col4\" class=\"data row6 col4\" >35850</td>\n",
       "            </tr>\n",
       "            <tr>\n",
       "                        <th id=\"T_798563e6_fe8a_11ea_82a7_10e7c6a9a761level0_row7\" class=\"row_heading level0 row7\" >7</th>\n",
       "                        <td id=\"T_798563e6_fe8a_11ea_82a7_10e7c6a9a761row7_col0\" class=\"data row7 col0\" >Dadar & Nagar Haveli; Daman & Diu</td>\n",
       "                        <td id=\"T_798563e6_fe8a_11ea_82a7_10e7c6a9a761row7_col1\" class=\"data row7 col1\" >2944</td>\n",
       "                        <td id=\"T_798563e6_fe8a_11ea_82a7_10e7c6a9a761row7_col2\" class=\"data row7 col2\" >2725</td>\n",
       "                        <td id=\"T_798563e6_fe8a_11ea_82a7_10e7c6a9a761row7_col3\" class=\"data row7 col3\" >2</td>\n",
       "                        <td id=\"T_798563e6_fe8a_11ea_82a7_10e7c6a9a761row7_col4\" class=\"data row7 col4\" >217</td>\n",
       "            </tr>\n",
       "            <tr>\n",
       "                        <th id=\"T_798563e6_fe8a_11ea_82a7_10e7c6a9a761level0_row8\" class=\"row_heading level0 row8\" >8</th>\n",
       "                        <td id=\"T_798563e6_fe8a_11ea_82a7_10e7c6a9a761row8_col0\" class=\"data row8 col0\" >Delhi</td>\n",
       "                        <td id=\"T_798563e6_fe8a_11ea_82a7_10e7c6a9a761row8_col1\" class=\"data row8 col1\" >260623</td>\n",
       "                        <td id=\"T_798563e6_fe8a_11ea_82a7_10e7c6a9a761row8_col2\" class=\"data row8 col2\" >224375</td>\n",
       "                        <td id=\"T_798563e6_fe8a_11ea_82a7_10e7c6a9a761row8_col3\" class=\"data row8 col3\" >5123</td>\n",
       "                        <td id=\"T_798563e6_fe8a_11ea_82a7_10e7c6a9a761row8_col4\" class=\"data row8 col4\" >31125</td>\n",
       "            </tr>\n",
       "            <tr>\n",
       "                        <th id=\"T_798563e6_fe8a_11ea_82a7_10e7c6a9a761level0_row9\" class=\"row_heading level0 row9\" >9</th>\n",
       "                        <td id=\"T_798563e6_fe8a_11ea_82a7_10e7c6a9a761row9_col0\" class=\"data row9 col0\" >Goa</td>\n",
       "                        <td id=\"T_798563e6_fe8a_11ea_82a7_10e7c6a9a761row9_col1\" class=\"data row9 col1\" >30552</td>\n",
       "                        <td id=\"T_798563e6_fe8a_11ea_82a7_10e7c6a9a761row9_col2\" class=\"data row9 col2\" >24347</td>\n",
       "                        <td id=\"T_798563e6_fe8a_11ea_82a7_10e7c6a9a761row9_col3\" class=\"data row9 col3\" >383</td>\n",
       "                        <td id=\"T_798563e6_fe8a_11ea_82a7_10e7c6a9a761row9_col4\" class=\"data row9 col4\" >5822</td>\n",
       "            </tr>\n",
       "            <tr>\n",
       "                        <th id=\"T_798563e6_fe8a_11ea_82a7_10e7c6a9a761level0_row10\" class=\"row_heading level0 row10\" >10</th>\n",
       "                        <td id=\"T_798563e6_fe8a_11ea_82a7_10e7c6a9a761row10_col0\" class=\"data row10 col0\" >Gujarat</td>\n",
       "                        <td id=\"T_798563e6_fe8a_11ea_82a7_10e7c6a9a761row10_col1\" class=\"data row10 col1\" >128787</td>\n",
       "                        <td id=\"T_798563e6_fe8a_11ea_82a7_10e7c6a9a761row10_col2\" class=\"data row10 col2\" >109084</td>\n",
       "                        <td id=\"T_798563e6_fe8a_11ea_82a7_10e7c6a9a761row10_col3\" class=\"data row10 col3\" >3381</td>\n",
       "                        <td id=\"T_798563e6_fe8a_11ea_82a7_10e7c6a9a761row10_col4\" class=\"data row10 col4\" >16322</td>\n",
       "            </tr>\n",
       "            <tr>\n",
       "                        <th id=\"T_798563e6_fe8a_11ea_82a7_10e7c6a9a761level0_row11\" class=\"row_heading level0 row11\" >11</th>\n",
       "                        <td id=\"T_798563e6_fe8a_11ea_82a7_10e7c6a9a761row11_col0\" class=\"data row11 col0\" >Haryana</td>\n",
       "                        <td id=\"T_798563e6_fe8a_11ea_82a7_10e7c6a9a761row11_col1\" class=\"data row11 col1\" >118554</td>\n",
       "                        <td id=\"T_798563e6_fe8a_11ea_82a7_10e7c6a9a761row11_col2\" class=\"data row11 col2\" >98410</td>\n",
       "                        <td id=\"T_798563e6_fe8a_11ea_82a7_10e7c6a9a761row11_col3\" class=\"data row11 col3\" >1255</td>\n",
       "                        <td id=\"T_798563e6_fe8a_11ea_82a7_10e7c6a9a761row11_col4\" class=\"data row11 col4\" >18889</td>\n",
       "            </tr>\n",
       "            <tr>\n",
       "                        <th id=\"T_798563e6_fe8a_11ea_82a7_10e7c6a9a761level0_row12\" class=\"row_heading level0 row12\" >12</th>\n",
       "                        <td id=\"T_798563e6_fe8a_11ea_82a7_10e7c6a9a761row12_col0\" class=\"data row12 col0\" >Himachal Pradesh</td>\n",
       "                        <td id=\"T_798563e6_fe8a_11ea_82a7_10e7c6a9a761row12_col1\" class=\"data row12 col1\" >13049</td>\n",
       "                        <td id=\"T_798563e6_fe8a_11ea_82a7_10e7c6a9a761row12_col2\" class=\"data row12 col2\" >8937</td>\n",
       "                        <td id=\"T_798563e6_fe8a_11ea_82a7_10e7c6a9a761row12_col3\" class=\"data row12 col3\" >135</td>\n",
       "                        <td id=\"T_798563e6_fe8a_11ea_82a7_10e7c6a9a761row12_col4\" class=\"data row12 col4\" >3977</td>\n",
       "            </tr>\n",
       "            <tr>\n",
       "                        <th id=\"T_798563e6_fe8a_11ea_82a7_10e7c6a9a761level0_row13\" class=\"row_heading level0 row13\" >13</th>\n",
       "                        <td id=\"T_798563e6_fe8a_11ea_82a7_10e7c6a9a761row13_col0\" class=\"data row13 col0\" >Jammu and Kashmir</td>\n",
       "                        <td id=\"T_798563e6_fe8a_11ea_82a7_10e7c6a9a761row13_col1\" class=\"data row13 col1\" >68614</td>\n",
       "                        <td id=\"T_798563e6_fe8a_11ea_82a7_10e7c6a9a761row13_col2\" class=\"data row13 col2\" >48079</td>\n",
       "                        <td id=\"T_798563e6_fe8a_11ea_82a7_10e7c6a9a761row13_col3\" class=\"data row13 col3\" >1084</td>\n",
       "                        <td id=\"T_798563e6_fe8a_11ea_82a7_10e7c6a9a761row13_col4\" class=\"data row13 col4\" >19451</td>\n",
       "            </tr>\n",
       "            <tr>\n",
       "                        <th id=\"T_798563e6_fe8a_11ea_82a7_10e7c6a9a761level0_row14\" class=\"row_heading level0 row14\" >14</th>\n",
       "                        <td id=\"T_798563e6_fe8a_11ea_82a7_10e7c6a9a761row14_col0\" class=\"data row14 col0\" >Jharkhand</td>\n",
       "                        <td id=\"T_798563e6_fe8a_11ea_82a7_10e7c6a9a761row14_col1\" class=\"data row14 col1\" >76438</td>\n",
       "                        <td id=\"T_798563e6_fe8a_11ea_82a7_10e7c6a9a761row14_col2\" class=\"data row14 col2\" >62945</td>\n",
       "                        <td id=\"T_798563e6_fe8a_11ea_82a7_10e7c6a9a761row14_col3\" class=\"data row14 col3\" >652</td>\n",
       "                        <td id=\"T_798563e6_fe8a_11ea_82a7_10e7c6a9a761row14_col4\" class=\"data row14 col4\" >12841</td>\n",
       "            </tr>\n",
       "            <tr>\n",
       "                        <th id=\"T_798563e6_fe8a_11ea_82a7_10e7c6a9a761level0_row15\" class=\"row_heading level0 row15\" >15</th>\n",
       "                        <td id=\"T_798563e6_fe8a_11ea_82a7_10e7c6a9a761row15_col0\" class=\"data row15 col0\" >Karnataka</td>\n",
       "                        <td id=\"T_798563e6_fe8a_11ea_82a7_10e7c6a9a761row15_col1\" class=\"data row15 col1\" >548557</td>\n",
       "                        <td id=\"T_798563e6_fe8a_11ea_82a7_10e7c6a9a761row15_col2\" class=\"data row15 col2\" >444658</td>\n",
       "                        <td id=\"T_798563e6_fe8a_11ea_82a7_10e7c6a9a761row15_col3\" class=\"data row15 col3\" >8331</td>\n",
       "                        <td id=\"T_798563e6_fe8a_11ea_82a7_10e7c6a9a761row15_col4\" class=\"data row15 col4\" >95568</td>\n",
       "            </tr>\n",
       "            <tr>\n",
       "                        <th id=\"T_798563e6_fe8a_11ea_82a7_10e7c6a9a761level0_row16\" class=\"row_heading level0 row16\" >16</th>\n",
       "                        <td id=\"T_798563e6_fe8a_11ea_82a7_10e7c6a9a761row16_col0\" class=\"data row16 col0\" >Kerala</td>\n",
       "                        <td id=\"T_798563e6_fe8a_11ea_82a7_10e7c6a9a761row16_col1\" class=\"data row16 col1\" >154456</td>\n",
       "                        <td id=\"T_798563e6_fe8a_11ea_82a7_10e7c6a9a761row16_col2\" class=\"data row16 col2\" >107850</td>\n",
       "                        <td id=\"T_798563e6_fe8a_11ea_82a7_10e7c6a9a761row16_col3\" class=\"data row16 col3\" >613</td>\n",
       "                        <td id=\"T_798563e6_fe8a_11ea_82a7_10e7c6a9a761row16_col4\" class=\"data row16 col4\" >45993</td>\n",
       "            </tr>\n",
       "            <tr>\n",
       "                        <th id=\"T_798563e6_fe8a_11ea_82a7_10e7c6a9a761level0_row17\" class=\"row_heading level0 row17\" >17</th>\n",
       "                        <td id=\"T_798563e6_fe8a_11ea_82a7_10e7c6a9a761row17_col0\" class=\"data row17 col0\" >Ladakh</td>\n",
       "                        <td id=\"T_798563e6_fe8a_11ea_82a7_10e7c6a9a761row17_col1\" class=\"data row17 col1\" >3933</td>\n",
       "                        <td id=\"T_798563e6_fe8a_11ea_82a7_10e7c6a9a761row17_col2\" class=\"data row17 col2\" >2844</td>\n",
       "                        <td id=\"T_798563e6_fe8a_11ea_82a7_10e7c6a9a761row17_col3\" class=\"data row17 col3\" >51</td>\n",
       "                        <td id=\"T_798563e6_fe8a_11ea_82a7_10e7c6a9a761row17_col4\" class=\"data row17 col4\" >1038</td>\n",
       "            </tr>\n",
       "            <tr>\n",
       "                        <th id=\"T_798563e6_fe8a_11ea_82a7_10e7c6a9a761level0_row18\" class=\"row_heading level0 row18\" >18</th>\n",
       "                        <td id=\"T_798563e6_fe8a_11ea_82a7_10e7c6a9a761row18_col0\" class=\"data row18 col0\" >Lakshadweep</td>\n",
       "                        <td id=\"T_798563e6_fe8a_11ea_82a7_10e7c6a9a761row18_col1\" class=\"data row18 col1\" >0</td>\n",
       "                        <td id=\"T_798563e6_fe8a_11ea_82a7_10e7c6a9a761row18_col2\" class=\"data row18 col2\" >0</td>\n",
       "                        <td id=\"T_798563e6_fe8a_11ea_82a7_10e7c6a9a761row18_col3\" class=\"data row18 col3\" >0</td>\n",
       "                        <td id=\"T_798563e6_fe8a_11ea_82a7_10e7c6a9a761row18_col4\" class=\"data row18 col4\" >0</td>\n",
       "            </tr>\n",
       "            <tr>\n",
       "                        <th id=\"T_798563e6_fe8a_11ea_82a7_10e7c6a9a761level0_row19\" class=\"row_heading level0 row19\" >19</th>\n",
       "                        <td id=\"T_798563e6_fe8a_11ea_82a7_10e7c6a9a761row19_col0\" class=\"data row19 col0\" >Madhya Pradesh</td>\n",
       "                        <td id=\"T_798563e6_fe8a_11ea_82a7_10e7c6a9a761row19_col1\" class=\"data row19 col1\" >115361</td>\n",
       "                        <td id=\"T_798563e6_fe8a_11ea_82a7_10e7c6a9a761row19_col2\" class=\"data row19 col2\" >90945</td>\n",
       "                        <td id=\"T_798563e6_fe8a_11ea_82a7_10e7c6a9a761row19_col3\" class=\"data row19 col3\" >2122</td>\n",
       "                        <td id=\"T_798563e6_fe8a_11ea_82a7_10e7c6a9a761row19_col4\" class=\"data row19 col4\" >22294</td>\n",
       "            </tr>\n",
       "            <tr>\n",
       "                        <th id=\"T_798563e6_fe8a_11ea_82a7_10e7c6a9a761level0_row20\" class=\"row_heading level0 row20\" >20</th>\n",
       "                        <td id=\"T_798563e6_fe8a_11ea_82a7_10e7c6a9a761row20_col0\" class=\"data row20 col0\" >Maharashtra</td>\n",
       "                        <td id=\"T_798563e6_fe8a_11ea_82a7_10e7c6a9a761row20_col1\" class=\"data row20 col1\" >1282963</td>\n",
       "                        <td id=\"T_798563e6_fe8a_11ea_82a7_10e7c6a9a761row20_col2\" class=\"data row20 col2\" >973214</td>\n",
       "                        <td id=\"T_798563e6_fe8a_11ea_82a7_10e7c6a9a761row20_col3\" class=\"data row20 col3\" >34751</td>\n",
       "                        <td id=\"T_798563e6_fe8a_11ea_82a7_10e7c6a9a761row20_col4\" class=\"data row20 col4\" >274998</td>\n",
       "            </tr>\n",
       "            <tr>\n",
       "                        <th id=\"T_798563e6_fe8a_11ea_82a7_10e7c6a9a761level0_row21\" class=\"row_heading level0 row21\" >21</th>\n",
       "                        <td id=\"T_798563e6_fe8a_11ea_82a7_10e7c6a9a761row21_col0\" class=\"data row21 col0\" >Manipur</td>\n",
       "                        <td id=\"T_798563e6_fe8a_11ea_82a7_10e7c6a9a761row21_col1\" class=\"data row21 col1\" >9537</td>\n",
       "                        <td id=\"T_798563e6_fe8a_11ea_82a7_10e7c6a9a761row21_col2\" class=\"data row21 col2\" >7378</td>\n",
       "                        <td id=\"T_798563e6_fe8a_11ea_82a7_10e7c6a9a761row21_col3\" class=\"data row21 col3\" >62</td>\n",
       "                        <td id=\"T_798563e6_fe8a_11ea_82a7_10e7c6a9a761row21_col4\" class=\"data row21 col4\" >2097</td>\n",
       "            </tr>\n",
       "            <tr>\n",
       "                        <th id=\"T_798563e6_fe8a_11ea_82a7_10e7c6a9a761level0_row22\" class=\"row_heading level0 row22\" >22</th>\n",
       "                        <td id=\"T_798563e6_fe8a_11ea_82a7_10e7c6a9a761row22_col0\" class=\"data row22 col0\" >Meghalaya</td>\n",
       "                        <td id=\"T_798563e6_fe8a_11ea_82a7_10e7c6a9a761row22_col1\" class=\"data row22 col1\" >4961</td>\n",
       "                        <td id=\"T_798563e6_fe8a_11ea_82a7_10e7c6a9a761row22_col2\" class=\"data row22 col2\" >2859</td>\n",
       "                        <td id=\"T_798563e6_fe8a_11ea_82a7_10e7c6a9a761row22_col3\" class=\"data row22 col3\" >42</td>\n",
       "                        <td id=\"T_798563e6_fe8a_11ea_82a7_10e7c6a9a761row22_col4\" class=\"data row22 col4\" >2060</td>\n",
       "            </tr>\n",
       "            <tr>\n",
       "                        <th id=\"T_798563e6_fe8a_11ea_82a7_10e7c6a9a761level0_row23\" class=\"row_heading level0 row23\" >23</th>\n",
       "                        <td id=\"T_798563e6_fe8a_11ea_82a7_10e7c6a9a761row23_col0\" class=\"data row23 col0\" >Mizoram</td>\n",
       "                        <td id=\"T_798563e6_fe8a_11ea_82a7_10e7c6a9a761row23_col1\" class=\"data row23 col1\" >1759</td>\n",
       "                        <td id=\"T_798563e6_fe8a_11ea_82a7_10e7c6a9a761row23_col2\" class=\"data row23 col2\" >1095</td>\n",
       "                        <td id=\"T_798563e6_fe8a_11ea_82a7_10e7c6a9a761row23_col3\" class=\"data row23 col3\" >0</td>\n",
       "                        <td id=\"T_798563e6_fe8a_11ea_82a7_10e7c6a9a761row23_col4\" class=\"data row23 col4\" >664</td>\n",
       "            </tr>\n",
       "            <tr>\n",
       "                        <th id=\"T_798563e6_fe8a_11ea_82a7_10e7c6a9a761level0_row24\" class=\"row_heading level0 row24\" >24</th>\n",
       "                        <td id=\"T_798563e6_fe8a_11ea_82a7_10e7c6a9a761row24_col0\" class=\"data row24 col0\" >Nagaland</td>\n",
       "                        <td id=\"T_798563e6_fe8a_11ea_82a7_10e7c6a9a761row24_col1\" class=\"data row24 col1\" >5671</td>\n",
       "                        <td id=\"T_798563e6_fe8a_11ea_82a7_10e7c6a9a761row24_col2\" class=\"data row24 col2\" >4509</td>\n",
       "                        <td id=\"T_798563e6_fe8a_11ea_82a7_10e7c6a9a761row24_col3\" class=\"data row24 col3\" >16</td>\n",
       "                        <td id=\"T_798563e6_fe8a_11ea_82a7_10e7c6a9a761row24_col4\" class=\"data row24 col4\" >1146</td>\n",
       "            </tr>\n",
       "            <tr>\n",
       "                        <th id=\"T_798563e6_fe8a_11ea_82a7_10e7c6a9a761level0_row25\" class=\"row_heading level0 row25\" >25</th>\n",
       "                        <td id=\"T_798563e6_fe8a_11ea_82a7_10e7c6a9a761row25_col0\" class=\"data row25 col0\" >Odisha</td>\n",
       "                        <td id=\"T_798563e6_fe8a_11ea_82a7_10e7c6a9a761row25_col1\" class=\"data row25 col1\" >192548</td>\n",
       "                        <td id=\"T_798563e6_fe8a_11ea_82a7_10e7c6a9a761row25_col2\" class=\"data row25 col2\" >157265</td>\n",
       "                        <td id=\"T_798563e6_fe8a_11ea_82a7_10e7c6a9a761row25_col3\" class=\"data row25 col3\" >789</td>\n",
       "                        <td id=\"T_798563e6_fe8a_11ea_82a7_10e7c6a9a761row25_col4\" class=\"data row25 col4\" >34494</td>\n",
       "            </tr>\n",
       "            <tr>\n",
       "                        <th id=\"T_798563e6_fe8a_11ea_82a7_10e7c6a9a761level0_row26\" class=\"row_heading level0 row26\" >26</th>\n",
       "                        <td id=\"T_798563e6_fe8a_11ea_82a7_10e7c6a9a761row26_col0\" class=\"data row26 col0\" >Puducherry</td>\n",
       "                        <td id=\"T_798563e6_fe8a_11ea_82a7_10e7c6a9a761row26_col1\" class=\"data row26 col1\" >24227</td>\n",
       "                        <td id=\"T_798563e6_fe8a_11ea_82a7_10e7c6a9a761row26_col2\" class=\"data row26 col2\" >18893</td>\n",
       "                        <td id=\"T_798563e6_fe8a_11ea_82a7_10e7c6a9a761row26_col3\" class=\"data row26 col3\" >481</td>\n",
       "                        <td id=\"T_798563e6_fe8a_11ea_82a7_10e7c6a9a761row26_col4\" class=\"data row26 col4\" >4853</td>\n",
       "            </tr>\n",
       "            <tr>\n",
       "                        <th id=\"T_798563e6_fe8a_11ea_82a7_10e7c6a9a761level0_row27\" class=\"row_heading level0 row27\" >27</th>\n",
       "                        <td id=\"T_798563e6_fe8a_11ea_82a7_10e7c6a9a761row27_col0\" class=\"data row27 col0\" >Punjab</td>\n",
       "                        <td id=\"T_798563e6_fe8a_11ea_82a7_10e7c6a9a761row27_col1\" class=\"data row27 col1\" >105220</td>\n",
       "                        <td id=\"T_798563e6_fe8a_11ea_82a7_10e7c6a9a761row27_col2\" class=\"data row27 col2\" >81475</td>\n",
       "                        <td id=\"T_798563e6_fe8a_11ea_82a7_10e7c6a9a761row27_col3\" class=\"data row27 col3\" >3066</td>\n",
       "                        <td id=\"T_798563e6_fe8a_11ea_82a7_10e7c6a9a761row27_col4\" class=\"data row27 col4\" >20679</td>\n",
       "            </tr>\n",
       "            <tr>\n",
       "                        <th id=\"T_798563e6_fe8a_11ea_82a7_10e7c6a9a761level0_row28\" class=\"row_heading level0 row28\" >28</th>\n",
       "                        <td id=\"T_798563e6_fe8a_11ea_82a7_10e7c6a9a761row28_col0\" class=\"data row28 col0\" >Rajasthan</td>\n",
       "                        <td id=\"T_798563e6_fe8a_11ea_82a7_10e7c6a9a761row28_col1\" class=\"data row28 col1\" >122720</td>\n",
       "                        <td id=\"T_798563e6_fe8a_11ea_82a7_10e7c6a9a761row28_col2\" class=\"data row28 col2\" >102330</td>\n",
       "                        <td id=\"T_798563e6_fe8a_11ea_82a7_10e7c6a9a761row28_col3\" class=\"data row28 col3\" >1397</td>\n",
       "                        <td id=\"T_798563e6_fe8a_11ea_82a7_10e7c6a9a761row28_col4\" class=\"data row28 col4\" >18993</td>\n",
       "            </tr>\n",
       "            <tr>\n",
       "                        <th id=\"T_798563e6_fe8a_11ea_82a7_10e7c6a9a761level0_row29\" class=\"row_heading level0 row29\" >29</th>\n",
       "                        <td id=\"T_798563e6_fe8a_11ea_82a7_10e7c6a9a761row29_col0\" class=\"data row29 col0\" >Sikkim</td>\n",
       "                        <td id=\"T_798563e6_fe8a_11ea_82a7_10e7c6a9a761row29_col1\" class=\"data row29 col1\" >2513</td>\n",
       "                        <td id=\"T_798563e6_fe8a_11ea_82a7_10e7c6a9a761row29_col2\" class=\"data row29 col2\" >1928</td>\n",
       "                        <td id=\"T_798563e6_fe8a_11ea_82a7_10e7c6a9a761row29_col3\" class=\"data row29 col3\" >29</td>\n",
       "                        <td id=\"T_798563e6_fe8a_11ea_82a7_10e7c6a9a761row29_col4\" class=\"data row29 col4\" >556</td>\n",
       "            </tr>\n",
       "            <tr>\n",
       "                        <th id=\"T_798563e6_fe8a_11ea_82a7_10e7c6a9a761level0_row30\" class=\"row_heading level0 row30\" >30</th>\n",
       "                        <td id=\"T_798563e6_fe8a_11ea_82a7_10e7c6a9a761row30_col0\" class=\"data row30 col0\" >Tamil Nadu</td>\n",
       "                        <td id=\"T_798563e6_fe8a_11ea_82a7_10e7c6a9a761row30_col1\" class=\"data row30 col1\" >563691</td>\n",
       "                        <td id=\"T_798563e6_fe8a_11ea_82a7_10e7c6a9a761row30_col2\" class=\"data row30 col2\" >508210</td>\n",
       "                        <td id=\"T_798563e6_fe8a_11ea_82a7_10e7c6a9a761row30_col3\" class=\"data row30 col3\" >9076</td>\n",
       "                        <td id=\"T_798563e6_fe8a_11ea_82a7_10e7c6a9a761row30_col4\" class=\"data row30 col4\" >46405</td>\n",
       "            </tr>\n",
       "            <tr>\n",
       "                        <th id=\"T_798563e6_fe8a_11ea_82a7_10e7c6a9a761level0_row31\" class=\"row_heading level0 row31\" >31</th>\n",
       "                        <td id=\"T_798563e6_fe8a_11ea_82a7_10e7c6a9a761row31_col0\" class=\"data row31 col0\" >Telangana</td>\n",
       "                        <td id=\"T_798563e6_fe8a_11ea_82a7_10e7c6a9a761row31_col1\" class=\"data row31 col1\" >179246</td>\n",
       "                        <td id=\"T_798563e6_fe8a_11ea_82a7_10e7c6a9a761row31_col2\" class=\"data row31 col2\" >148139</td>\n",
       "                        <td id=\"T_798563e6_fe8a_11ea_82a7_10e7c6a9a761row31_col3\" class=\"data row31 col3\" >1070</td>\n",
       "                        <td id=\"T_798563e6_fe8a_11ea_82a7_10e7c6a9a761row31_col4\" class=\"data row31 col4\" >30037</td>\n",
       "            </tr>\n",
       "            <tr>\n",
       "                        <th id=\"T_798563e6_fe8a_11ea_82a7_10e7c6a9a761level0_row32\" class=\"row_heading level0 row32\" >32</th>\n",
       "                        <td id=\"T_798563e6_fe8a_11ea_82a7_10e7c6a9a761row32_col0\" class=\"data row32 col0\" >Tripura</td>\n",
       "                        <td id=\"T_798563e6_fe8a_11ea_82a7_10e7c6a9a761row32_col1\" class=\"data row32 col1\" >23786</td>\n",
       "                        <td id=\"T_798563e6_fe8a_11ea_82a7_10e7c6a9a761row32_col2\" class=\"data row32 col2\" >16955</td>\n",
       "                        <td id=\"T_798563e6_fe8a_11ea_82a7_10e7c6a9a761row32_col3\" class=\"data row32 col3\" >257</td>\n",
       "                        <td id=\"T_798563e6_fe8a_11ea_82a7_10e7c6a9a761row32_col4\" class=\"data row32 col4\" >6574</td>\n",
       "            </tr>\n",
       "            <tr>\n",
       "                        <th id=\"T_798563e6_fe8a_11ea_82a7_10e7c6a9a761level0_row33\" class=\"row_heading level0 row33\" >33</th>\n",
       "                        <td id=\"T_798563e6_fe8a_11ea_82a7_10e7c6a9a761row33_col0\" class=\"data row33 col0\" >Uttar Pradesh</td>\n",
       "                        <td id=\"T_798563e6_fe8a_11ea_82a7_10e7c6a9a761row33_col1\" class=\"data row33 col1\" >374277</td>\n",
       "                        <td id=\"T_798563e6_fe8a_11ea_82a7_10e7c6a9a761row33_col2\" class=\"data row33 col2\" >307611</td>\n",
       "                        <td id=\"T_798563e6_fe8a_11ea_82a7_10e7c6a9a761row33_col3\" class=\"data row33 col3\" >5366</td>\n",
       "                        <td id=\"T_798563e6_fe8a_11ea_82a7_10e7c6a9a761row33_col4\" class=\"data row33 col4\" >61300</td>\n",
       "            </tr>\n",
       "            <tr>\n",
       "                        <th id=\"T_798563e6_fe8a_11ea_82a7_10e7c6a9a761level0_row34\" class=\"row_heading level0 row34\" >34</th>\n",
       "                        <td id=\"T_798563e6_fe8a_11ea_82a7_10e7c6a9a761row34_col0\" class=\"data row34 col0\" >Uttarakhand</td>\n",
       "                        <td id=\"T_798563e6_fe8a_11ea_82a7_10e7c6a9a761row34_col1\" class=\"data row34 col1\" >44404</td>\n",
       "                        <td id=\"T_798563e6_fe8a_11ea_82a7_10e7c6a9a761row34_col2\" class=\"data row34 col2\" >32154</td>\n",
       "                        <td id=\"T_798563e6_fe8a_11ea_82a7_10e7c6a9a761row34_col3\" class=\"data row34 col3\" >542</td>\n",
       "                        <td id=\"T_798563e6_fe8a_11ea_82a7_10e7c6a9a761row34_col4\" class=\"data row34 col4\" >11708</td>\n",
       "            </tr>\n",
       "            <tr>\n",
       "                        <th id=\"T_798563e6_fe8a_11ea_82a7_10e7c6a9a761level0_row35\" class=\"row_heading level0 row35\" >35</th>\n",
       "                        <td id=\"T_798563e6_fe8a_11ea_82a7_10e7c6a9a761row35_col0\" class=\"data row35 col0\" >West Bengal</td>\n",
       "                        <td id=\"T_798563e6_fe8a_11ea_82a7_10e7c6a9a761row35_col1\" class=\"data row35 col1\" >237869</td>\n",
       "                        <td id=\"T_798563e6_fe8a_11ea_82a7_10e7c6a9a761row35_col2\" class=\"data row35 col2\" >208042</td>\n",
       "                        <td id=\"T_798563e6_fe8a_11ea_82a7_10e7c6a9a761row35_col3\" class=\"data row35 col3\" >4606</td>\n",
       "                        <td id=\"T_798563e6_fe8a_11ea_82a7_10e7c6a9a761row35_col4\" class=\"data row35 col4\" >25221</td>\n",
       "            </tr>\n",
       "    </tbody></table>"
      ],
      "text/plain": [
       "<pandas.io.formats.style.Styler at 0x28fa89df2c8>"
      ]
     },
     "execution_count": 11,
     "metadata": {},
     "output_type": "execute_result"
    }
   ],
   "source": [
    "df['Active Cases']=df['Convirmed']-(df['Recovery']+df['Deaths'])\n",
    "\n",
    "df\n",
    "df.style.background_gradient(cmap='Reds')"
   ]
  },
  {
   "cell_type": "code",
   "execution_count": 12,
   "metadata": {
    "ExecuteTime": {
     "end_time": "2020-09-24T17:22:08.655802Z",
     "start_time": "2020-09-24T17:22:08.606975Z"
    }
   },
   "outputs": [
    {
     "data": {
      "text/html": [
       "<style  type=\"text/css\" >\n",
       "    #T_798c5df8_fe8a_11ea_aaed_10e7c6a9a761row0_col0 {\n",
       "            background-color:  #67000d;\n",
       "            color:  #f1f1f1;\n",
       "        }    #T_798c5df8_fe8a_11ea_aaed_10e7c6a9a761row1_col0 {\n",
       "            background-color:  #fc9c7d;\n",
       "            color:  #000000;\n",
       "        }    #T_798c5df8_fe8a_11ea_aaed_10e7c6a9a761row2_col0 {\n",
       "            background-color:  #fcbba1;\n",
       "            color:  #000000;\n",
       "        }    #T_798c5df8_fe8a_11ea_aaed_10e7c6a9a761row3_col0 {\n",
       "            background-color:  #fcc3ab;\n",
       "            color:  #000000;\n",
       "        }    #T_798c5df8_fe8a_11ea_aaed_10e7c6a9a761row4_col0 {\n",
       "            background-color:  #fdd3c1;\n",
       "            color:  #000000;\n",
       "        }    #T_798c5df8_fe8a_11ea_aaed_10e7c6a9a761row5_col0 {\n",
       "            background-color:  #fdd4c2;\n",
       "            color:  #000000;\n",
       "        }    #T_798c5df8_fe8a_11ea_aaed_10e7c6a9a761row6_col0 {\n",
       "            background-color:  #fedfd0;\n",
       "            color:  #000000;\n",
       "        }    #T_798c5df8_fe8a_11ea_aaed_10e7c6a9a761row7_col0 {\n",
       "            background-color:  #fee0d2;\n",
       "            color:  #000000;\n",
       "        }    #T_798c5df8_fe8a_11ea_aaed_10e7c6a9a761row8_col0 {\n",
       "            background-color:  #fee3d6;\n",
       "            color:  #000000;\n",
       "        }    #T_798c5df8_fe8a_11ea_aaed_10e7c6a9a761row9_col0 {\n",
       "            background-color:  #fee3d6;\n",
       "            color:  #000000;\n",
       "        }    #T_798c5df8_fe8a_11ea_aaed_10e7c6a9a761row10_col0 {\n",
       "            background-color:  #fee3d7;\n",
       "            color:  #000000;\n",
       "        }    #T_798c5df8_fe8a_11ea_aaed_10e7c6a9a761row11_col0 {\n",
       "            background-color:  #fee6da;\n",
       "            color:  #000000;\n",
       "        }    #T_798c5df8_fe8a_11ea_aaed_10e7c6a9a761row12_col0 {\n",
       "            background-color:  #fee8dd;\n",
       "            color:  #000000;\n",
       "        }    #T_798c5df8_fe8a_11ea_aaed_10e7c6a9a761row13_col0 {\n",
       "            background-color:  #fee8de;\n",
       "            color:  #000000;\n",
       "        }    #T_798c5df8_fe8a_11ea_aaed_10e7c6a9a761row14_col0 {\n",
       "            background-color:  #fee9df;\n",
       "            color:  #000000;\n",
       "        }    #T_798c5df8_fe8a_11ea_aaed_10e7c6a9a761row15_col0 {\n",
       "            background-color:  #feeae0;\n",
       "            color:  #000000;\n",
       "        }    #T_798c5df8_fe8a_11ea_aaed_10e7c6a9a761row16_col0 {\n",
       "            background-color:  #feeae0;\n",
       "            color:  #000000;\n",
       "        }    #T_798c5df8_fe8a_11ea_aaed_10e7c6a9a761row17_col0 {\n",
       "            background-color:  #ffebe2;\n",
       "            color:  #000000;\n",
       "        }    #T_798c5df8_fe8a_11ea_aaed_10e7c6a9a761row18_col0 {\n",
       "            background-color:  #ffede5;\n",
       "            color:  #000000;\n",
       "        }    #T_798c5df8_fe8a_11ea_aaed_10e7c6a9a761row19_col0 {\n",
       "            background-color:  #ffeee6;\n",
       "            color:  #000000;\n",
       "        }    #T_798c5df8_fe8a_11ea_aaed_10e7c6a9a761row20_col0 {\n",
       "            background-color:  #ffeee7;\n",
       "            color:  #000000;\n",
       "        }    #T_798c5df8_fe8a_11ea_aaed_10e7c6a9a761row21_col0 {\n",
       "            background-color:  #fff1ea;\n",
       "            color:  #000000;\n",
       "        }    #T_798c5df8_fe8a_11ea_aaed_10e7c6a9a761row22_col0 {\n",
       "            background-color:  #fff2eb;\n",
       "            color:  #000000;\n",
       "        }    #T_798c5df8_fe8a_11ea_aaed_10e7c6a9a761row23_col0 {\n",
       "            background-color:  #fff2ec;\n",
       "            color:  #000000;\n",
       "        }    #T_798c5df8_fe8a_11ea_aaed_10e7c6a9a761row24_col0 {\n",
       "            background-color:  #fff3ed;\n",
       "            color:  #000000;\n",
       "        }    #T_798c5df8_fe8a_11ea_aaed_10e7c6a9a761row25_col0 {\n",
       "            background-color:  #fff4ee;\n",
       "            color:  #000000;\n",
       "        }    #T_798c5df8_fe8a_11ea_aaed_10e7c6a9a761row26_col0 {\n",
       "            background-color:  #fff4ee;\n",
       "            color:  #000000;\n",
       "        }    #T_798c5df8_fe8a_11ea_aaed_10e7c6a9a761row27_col0 {\n",
       "            background-color:  #fff4ef;\n",
       "            color:  #000000;\n",
       "        }    #T_798c5df8_fe8a_11ea_aaed_10e7c6a9a761row28_col0 {\n",
       "            background-color:  #fff4ef;\n",
       "            color:  #000000;\n",
       "        }    #T_798c5df8_fe8a_11ea_aaed_10e7c6a9a761row29_col0 {\n",
       "            background-color:  #fff4ef;\n",
       "            color:  #000000;\n",
       "        }    #T_798c5df8_fe8a_11ea_aaed_10e7c6a9a761row30_col0 {\n",
       "            background-color:  #fff5f0;\n",
       "            color:  #000000;\n",
       "        }    #T_798c5df8_fe8a_11ea_aaed_10e7c6a9a761row31_col0 {\n",
       "            background-color:  #fff5f0;\n",
       "            color:  #000000;\n",
       "        }    #T_798c5df8_fe8a_11ea_aaed_10e7c6a9a761row32_col0 {\n",
       "            background-color:  #fff5f0;\n",
       "            color:  #000000;\n",
       "        }    #T_798c5df8_fe8a_11ea_aaed_10e7c6a9a761row33_col0 {\n",
       "            background-color:  #fff5f0;\n",
       "            color:  #000000;\n",
       "        }    #T_798c5df8_fe8a_11ea_aaed_10e7c6a9a761row34_col0 {\n",
       "            background-color:  #fff5f0;\n",
       "            color:  #000000;\n",
       "        }    #T_798c5df8_fe8a_11ea_aaed_10e7c6a9a761row35_col0 {\n",
       "            background-color:  #fff5f0;\n",
       "            color:  #000000;\n",
       "        }</style><table id=\"T_798c5df8_fe8a_11ea_aaed_10e7c6a9a761\" ><thead>    <tr>        <th class=\"blank level0\" ></th>        <th class=\"col_heading level0 col0\" >Active Cases</th>    </tr>    <tr>        <th class=\"index_name level0\" >State</th>        <th class=\"blank\" ></th>    </tr></thead><tbody>\n",
       "                <tr>\n",
       "                        <th id=\"T_798c5df8_fe8a_11ea_aaed_10e7c6a9a761level0_row0\" class=\"row_heading level0 row0\" >Maharashtra</th>\n",
       "                        <td id=\"T_798c5df8_fe8a_11ea_aaed_10e7c6a9a761row0_col0\" class=\"data row0 col0\" >274998</td>\n",
       "            </tr>\n",
       "            <tr>\n",
       "                        <th id=\"T_798c5df8_fe8a_11ea_aaed_10e7c6a9a761level0_row1\" class=\"row_heading level0 row1\" >Karnataka</th>\n",
       "                        <td id=\"T_798c5df8_fe8a_11ea_aaed_10e7c6a9a761row1_col0\" class=\"data row1 col0\" >95568</td>\n",
       "            </tr>\n",
       "            <tr>\n",
       "                        <th id=\"T_798c5df8_fe8a_11ea_aaed_10e7c6a9a761level0_row2\" class=\"row_heading level0 row2\" >Andhra Pradesh</th>\n",
       "                        <td id=\"T_798c5df8_fe8a_11ea_aaed_10e7c6a9a761row2_col0\" class=\"data row2 col0\" >69353</td>\n",
       "            </tr>\n",
       "            <tr>\n",
       "                        <th id=\"T_798c5df8_fe8a_11ea_aaed_10e7c6a9a761level0_row3\" class=\"row_heading level0 row3\" >Uttar Pradesh</th>\n",
       "                        <td id=\"T_798c5df8_fe8a_11ea_aaed_10e7c6a9a761row3_col0\" class=\"data row3 col0\" >61300</td>\n",
       "            </tr>\n",
       "            <tr>\n",
       "                        <th id=\"T_798c5df8_fe8a_11ea_aaed_10e7c6a9a761level0_row4\" class=\"row_heading level0 row4\" >Tamil Nadu</th>\n",
       "                        <td id=\"T_798c5df8_fe8a_11ea_aaed_10e7c6a9a761row4_col0\" class=\"data row4 col0\" >46405</td>\n",
       "            </tr>\n",
       "            <tr>\n",
       "                        <th id=\"T_798c5df8_fe8a_11ea_aaed_10e7c6a9a761level0_row5\" class=\"row_heading level0 row5\" >Kerala</th>\n",
       "                        <td id=\"T_798c5df8_fe8a_11ea_aaed_10e7c6a9a761row5_col0\" class=\"data row5 col0\" >45993</td>\n",
       "            </tr>\n",
       "            <tr>\n",
       "                        <th id=\"T_798c5df8_fe8a_11ea_aaed_10e7c6a9a761level0_row6\" class=\"row_heading level0 row6\" >Chhattisgarh</th>\n",
       "                        <td id=\"T_798c5df8_fe8a_11ea_aaed_10e7c6a9a761row6_col0\" class=\"data row6 col0\" >35850</td>\n",
       "            </tr>\n",
       "            <tr>\n",
       "                        <th id=\"T_798c5df8_fe8a_11ea_aaed_10e7c6a9a761level0_row7\" class=\"row_heading level0 row7\" >Odisha</th>\n",
       "                        <td id=\"T_798c5df8_fe8a_11ea_aaed_10e7c6a9a761row7_col0\" class=\"data row7 col0\" >34494</td>\n",
       "            </tr>\n",
       "            <tr>\n",
       "                        <th id=\"T_798c5df8_fe8a_11ea_aaed_10e7c6a9a761level0_row8\" class=\"row_heading level0 row8\" >Delhi</th>\n",
       "                        <td id=\"T_798c5df8_fe8a_11ea_aaed_10e7c6a9a761row8_col0\" class=\"data row8 col0\" >31125</td>\n",
       "            </tr>\n",
       "            <tr>\n",
       "                        <th id=\"T_798c5df8_fe8a_11ea_aaed_10e7c6a9a761level0_row9\" class=\"row_heading level0 row9\" >Assam</th>\n",
       "                        <td id=\"T_798c5df8_fe8a_11ea_aaed_10e7c6a9a761row9_col0\" class=\"data row9 col0\" >30185</td>\n",
       "            </tr>\n",
       "            <tr>\n",
       "                        <th id=\"T_798c5df8_fe8a_11ea_aaed_10e7c6a9a761level0_row10\" class=\"row_heading level0 row10\" >Telangana</th>\n",
       "                        <td id=\"T_798c5df8_fe8a_11ea_aaed_10e7c6a9a761row10_col0\" class=\"data row10 col0\" >30037</td>\n",
       "            </tr>\n",
       "            <tr>\n",
       "                        <th id=\"T_798c5df8_fe8a_11ea_aaed_10e7c6a9a761level0_row11\" class=\"row_heading level0 row11\" >West Bengal</th>\n",
       "                        <td id=\"T_798c5df8_fe8a_11ea_aaed_10e7c6a9a761row11_col0\" class=\"data row11 col0\" >25221</td>\n",
       "            </tr>\n",
       "            <tr>\n",
       "                        <th id=\"T_798c5df8_fe8a_11ea_aaed_10e7c6a9a761level0_row12\" class=\"row_heading level0 row12\" >Madhya Pradesh</th>\n",
       "                        <td id=\"T_798c5df8_fe8a_11ea_aaed_10e7c6a9a761row12_col0\" class=\"data row12 col0\" >22294</td>\n",
       "            </tr>\n",
       "            <tr>\n",
       "                        <th id=\"T_798c5df8_fe8a_11ea_aaed_10e7c6a9a761level0_row13\" class=\"row_heading level0 row13\" >Punjab</th>\n",
       "                        <td id=\"T_798c5df8_fe8a_11ea_aaed_10e7c6a9a761row13_col0\" class=\"data row13 col0\" >20679</td>\n",
       "            </tr>\n",
       "            <tr>\n",
       "                        <th id=\"T_798c5df8_fe8a_11ea_aaed_10e7c6a9a761level0_row14\" class=\"row_heading level0 row14\" >Jammu and Kashmir</th>\n",
       "                        <td id=\"T_798c5df8_fe8a_11ea_aaed_10e7c6a9a761row14_col0\" class=\"data row14 col0\" >19451</td>\n",
       "            </tr>\n",
       "            <tr>\n",
       "                        <th id=\"T_798c5df8_fe8a_11ea_aaed_10e7c6a9a761level0_row15\" class=\"row_heading level0 row15\" >Rajasthan</th>\n",
       "                        <td id=\"T_798c5df8_fe8a_11ea_aaed_10e7c6a9a761row15_col0\" class=\"data row15 col0\" >18993</td>\n",
       "            </tr>\n",
       "            <tr>\n",
       "                        <th id=\"T_798c5df8_fe8a_11ea_aaed_10e7c6a9a761level0_row16\" class=\"row_heading level0 row16\" >Haryana</th>\n",
       "                        <td id=\"T_798c5df8_fe8a_11ea_aaed_10e7c6a9a761row16_col0\" class=\"data row16 col0\" >18889</td>\n",
       "            </tr>\n",
       "            <tr>\n",
       "                        <th id=\"T_798c5df8_fe8a_11ea_aaed_10e7c6a9a761level0_row17\" class=\"row_heading level0 row17\" >Gujarat</th>\n",
       "                        <td id=\"T_798c5df8_fe8a_11ea_aaed_10e7c6a9a761row17_col0\" class=\"data row17 col0\" >16322</td>\n",
       "            </tr>\n",
       "            <tr>\n",
       "                        <th id=\"T_798c5df8_fe8a_11ea_aaed_10e7c6a9a761level0_row18\" class=\"row_heading level0 row18\" >Bihar</th>\n",
       "                        <td id=\"T_798c5df8_fe8a_11ea_aaed_10e7c6a9a761row18_col0\" class=\"data row18 col0\" >13688</td>\n",
       "            </tr>\n",
       "            <tr>\n",
       "                        <th id=\"T_798c5df8_fe8a_11ea_aaed_10e7c6a9a761level0_row19\" class=\"row_heading level0 row19\" >Jharkhand</th>\n",
       "                        <td id=\"T_798c5df8_fe8a_11ea_aaed_10e7c6a9a761row19_col0\" class=\"data row19 col0\" >12841</td>\n",
       "            </tr>\n",
       "            <tr>\n",
       "                        <th id=\"T_798c5df8_fe8a_11ea_aaed_10e7c6a9a761level0_row20\" class=\"row_heading level0 row20\" >Uttarakhand</th>\n",
       "                        <td id=\"T_798c5df8_fe8a_11ea_aaed_10e7c6a9a761row20_col0\" class=\"data row20 col0\" >11708</td>\n",
       "            </tr>\n",
       "            <tr>\n",
       "                        <th id=\"T_798c5df8_fe8a_11ea_aaed_10e7c6a9a761level0_row21\" class=\"row_heading level0 row21\" >Tripura</th>\n",
       "                        <td id=\"T_798c5df8_fe8a_11ea_aaed_10e7c6a9a761row21_col0\" class=\"data row21 col0\" >6574</td>\n",
       "            </tr>\n",
       "            <tr>\n",
       "                        <th id=\"T_798c5df8_fe8a_11ea_aaed_10e7c6a9a761level0_row22\" class=\"row_heading level0 row22\" >Goa</th>\n",
       "                        <td id=\"T_798c5df8_fe8a_11ea_aaed_10e7c6a9a761row22_col0\" class=\"data row22 col0\" >5822</td>\n",
       "            </tr>\n",
       "            <tr>\n",
       "                        <th id=\"T_798c5df8_fe8a_11ea_aaed_10e7c6a9a761level0_row23\" class=\"row_heading level0 row23\" >Puducherry</th>\n",
       "                        <td id=\"T_798c5df8_fe8a_11ea_aaed_10e7c6a9a761row23_col0\" class=\"data row23 col0\" >4853</td>\n",
       "            </tr>\n",
       "            <tr>\n",
       "                        <th id=\"T_798c5df8_fe8a_11ea_aaed_10e7c6a9a761level0_row24\" class=\"row_heading level0 row24\" >Himachal Pradesh</th>\n",
       "                        <td id=\"T_798c5df8_fe8a_11ea_aaed_10e7c6a9a761row24_col0\" class=\"data row24 col0\" >3977</td>\n",
       "            </tr>\n",
       "            <tr>\n",
       "                        <th id=\"T_798c5df8_fe8a_11ea_aaed_10e7c6a9a761level0_row25\" class=\"row_heading level0 row25\" >Chandigarh</th>\n",
       "                        <td id=\"T_798c5df8_fe8a_11ea_aaed_10e7c6a9a761row25_col0\" class=\"data row25 col0\" >2482</td>\n",
       "            </tr>\n",
       "            <tr>\n",
       "                        <th id=\"T_798c5df8_fe8a_11ea_aaed_10e7c6a9a761level0_row26\" class=\"row_heading level0 row26\" >Arunachal Pradesh</th>\n",
       "                        <td id=\"T_798c5df8_fe8a_11ea_aaed_10e7c6a9a761row26_col0\" class=\"data row26 col0\" >2216</td>\n",
       "            </tr>\n",
       "            <tr>\n",
       "                        <th id=\"T_798c5df8_fe8a_11ea_aaed_10e7c6a9a761level0_row27\" class=\"row_heading level0 row27\" >Manipur</th>\n",
       "                        <td id=\"T_798c5df8_fe8a_11ea_aaed_10e7c6a9a761row27_col0\" class=\"data row27 col0\" >2097</td>\n",
       "            </tr>\n",
       "            <tr>\n",
       "                        <th id=\"T_798c5df8_fe8a_11ea_aaed_10e7c6a9a761level0_row28\" class=\"row_heading level0 row28\" >Meghalaya</th>\n",
       "                        <td id=\"T_798c5df8_fe8a_11ea_aaed_10e7c6a9a761row28_col0\" class=\"data row28 col0\" >2060</td>\n",
       "            </tr>\n",
       "            <tr>\n",
       "                        <th id=\"T_798c5df8_fe8a_11ea_aaed_10e7c6a9a761level0_row29\" class=\"row_heading level0 row29\" >Nagaland</th>\n",
       "                        <td id=\"T_798c5df8_fe8a_11ea_aaed_10e7c6a9a761row29_col0\" class=\"data row29 col0\" >1146</td>\n",
       "            </tr>\n",
       "            <tr>\n",
       "                        <th id=\"T_798c5df8_fe8a_11ea_aaed_10e7c6a9a761level0_row30\" class=\"row_heading level0 row30\" >Ladakh</th>\n",
       "                        <td id=\"T_798c5df8_fe8a_11ea_aaed_10e7c6a9a761row30_col0\" class=\"data row30 col0\" >1038</td>\n",
       "            </tr>\n",
       "            <tr>\n",
       "                        <th id=\"T_798c5df8_fe8a_11ea_aaed_10e7c6a9a761level0_row31\" class=\"row_heading level0 row31\" >Mizoram</th>\n",
       "                        <td id=\"T_798c5df8_fe8a_11ea_aaed_10e7c6a9a761row31_col0\" class=\"data row31 col0\" >664</td>\n",
       "            </tr>\n",
       "            <tr>\n",
       "                        <th id=\"T_798c5df8_fe8a_11ea_aaed_10e7c6a9a761level0_row32\" class=\"row_heading level0 row32\" >Sikkim</th>\n",
       "                        <td id=\"T_798c5df8_fe8a_11ea_aaed_10e7c6a9a761row32_col0\" class=\"data row32 col0\" >556</td>\n",
       "            </tr>\n",
       "            <tr>\n",
       "                        <th id=\"T_798c5df8_fe8a_11ea_aaed_10e7c6a9a761level0_row33\" class=\"row_heading level0 row33\" >Dadar & Nagar Haveli; Daman & Diu</th>\n",
       "                        <td id=\"T_798c5df8_fe8a_11ea_aaed_10e7c6a9a761row33_col0\" class=\"data row33 col0\" >217</td>\n",
       "            </tr>\n",
       "            <tr>\n",
       "                        <th id=\"T_798c5df8_fe8a_11ea_aaed_10e7c6a9a761level0_row34\" class=\"row_heading level0 row34\" >Andaman and Nicobar Islands</th>\n",
       "                        <td id=\"T_798c5df8_fe8a_11ea_aaed_10e7c6a9a761row34_col0\" class=\"data row34 col0\" >166</td>\n",
       "            </tr>\n",
       "            <tr>\n",
       "                        <th id=\"T_798c5df8_fe8a_11ea_aaed_10e7c6a9a761level0_row35\" class=\"row_heading level0 row35\" >Lakshadweep</th>\n",
       "                        <td id=\"T_798c5df8_fe8a_11ea_aaed_10e7c6a9a761row35_col0\" class=\"data row35 col0\" >0</td>\n",
       "            </tr>\n",
       "    </tbody></table>"
      ],
      "text/plain": [
       "<pandas.io.formats.style.Styler at 0x28fa8f20588>"
      ]
     },
     "execution_count": 12,
     "metadata": {},
     "output_type": "execute_result"
    }
   ],
   "source": [
    "Total_Active_Cases=df.groupby('State')['Active Cases'].sum().sort_values(ascending=False).to_frame()\n",
    "Total_Active_Cases\n",
    "Total_Active_Cases.style.background_gradient(cmap='Reds')"
   ]
  },
  {
   "cell_type": "code",
   "execution_count": 13,
   "metadata": {
    "ExecuteTime": {
     "end_time": "2020-09-24T17:22:09.731637Z",
     "start_time": "2020-09-24T17:22:08.657203Z"
    },
    "scrolled": true
   },
   "outputs": [
    {
     "data": {
      "application/vnd.plotly.v1+json": {
       "config": {
        "linkText": "Export to plot.ly",
        "plotlyServerURL": "https://plot.ly",
        "showLink": true
       },
       "data": [
        {
         "marker": {
          "color": "rgba(255, 153, 51, 0.6)",
          "line": {
           "color": "rgba(255, 153, 51, 1.0)",
           "width": 1
          }
         },
         "name": "Active Cases",
         "orientation": "v",
         "text": "",
         "type": "bar",
         "x": [
          "Andaman and Nicobar Islands",
          "Andhra Pradesh",
          "Arunachal Pradesh",
          "Assam",
          "Bihar",
          "Chandigarh",
          "Chhattisgarh",
          "Dadar & Nagar Haveli; Daman & Diu",
          "Delhi",
          "Goa",
          "Gujarat",
          "Haryana",
          "Himachal Pradesh",
          "Jammu and Kashmir",
          "Jharkhand",
          "Karnataka",
          "Kerala",
          "Ladakh",
          "Lakshadweep",
          "Madhya Pradesh",
          "Maharashtra",
          "Manipur",
          "Meghalaya",
          "Mizoram",
          "Nagaland",
          "Odisha",
          "Puducherry",
          "Punjab",
          "Rajasthan",
          "Sikkim",
          "Tamil Nadu",
          "Telangana",
          "Tripura",
          "Uttar Pradesh",
          "Uttarakhand",
          "West Bengal"
         ],
         "y": [
          166,
          69353,
          2216,
          30185,
          13688,
          2482,
          35850,
          217,
          31125,
          5822,
          16322,
          18889,
          3977,
          19451,
          12841,
          95568,
          45993,
          1038,
          0,
          22294,
          274998,
          2097,
          2060,
          664,
          1146,
          34494,
          4853,
          20679,
          18993,
          556,
          46405,
          30037,
          6574,
          61300,
          11708,
          25221
         ]
        }
       ],
       "layout": {
        "legend": {
         "bgcolor": "#F5F6F9",
         "font": {
          "color": "#4D5663"
         }
        },
        "paper_bgcolor": "#F5F6F9",
        "plot_bgcolor": "#F5F6F9",
        "template": {
         "data": {
          "bar": [
           {
            "error_x": {
             "color": "#2a3f5f"
            },
            "error_y": {
             "color": "#2a3f5f"
            },
            "marker": {
             "line": {
              "color": "#E5ECF6",
              "width": 0.5
             }
            },
            "type": "bar"
           }
          ],
          "barpolar": [
           {
            "marker": {
             "line": {
              "color": "#E5ECF6",
              "width": 0.5
             }
            },
            "type": "barpolar"
           }
          ],
          "carpet": [
           {
            "aaxis": {
             "endlinecolor": "#2a3f5f",
             "gridcolor": "white",
             "linecolor": "white",
             "minorgridcolor": "white",
             "startlinecolor": "#2a3f5f"
            },
            "baxis": {
             "endlinecolor": "#2a3f5f",
             "gridcolor": "white",
             "linecolor": "white",
             "minorgridcolor": "white",
             "startlinecolor": "#2a3f5f"
            },
            "type": "carpet"
           }
          ],
          "choropleth": [
           {
            "colorbar": {
             "outlinewidth": 0,
             "ticks": ""
            },
            "type": "choropleth"
           }
          ],
          "contour": [
           {
            "colorbar": {
             "outlinewidth": 0,
             "ticks": ""
            },
            "colorscale": [
             [
              0,
              "#0d0887"
             ],
             [
              0.1111111111111111,
              "#46039f"
             ],
             [
              0.2222222222222222,
              "#7201a8"
             ],
             [
              0.3333333333333333,
              "#9c179e"
             ],
             [
              0.4444444444444444,
              "#bd3786"
             ],
             [
              0.5555555555555556,
              "#d8576b"
             ],
             [
              0.6666666666666666,
              "#ed7953"
             ],
             [
              0.7777777777777778,
              "#fb9f3a"
             ],
             [
              0.8888888888888888,
              "#fdca26"
             ],
             [
              1,
              "#f0f921"
             ]
            ],
            "type": "contour"
           }
          ],
          "contourcarpet": [
           {
            "colorbar": {
             "outlinewidth": 0,
             "ticks": ""
            },
            "type": "contourcarpet"
           }
          ],
          "heatmap": [
           {
            "colorbar": {
             "outlinewidth": 0,
             "ticks": ""
            },
            "colorscale": [
             [
              0,
              "#0d0887"
             ],
             [
              0.1111111111111111,
              "#46039f"
             ],
             [
              0.2222222222222222,
              "#7201a8"
             ],
             [
              0.3333333333333333,
              "#9c179e"
             ],
             [
              0.4444444444444444,
              "#bd3786"
             ],
             [
              0.5555555555555556,
              "#d8576b"
             ],
             [
              0.6666666666666666,
              "#ed7953"
             ],
             [
              0.7777777777777778,
              "#fb9f3a"
             ],
             [
              0.8888888888888888,
              "#fdca26"
             ],
             [
              1,
              "#f0f921"
             ]
            ],
            "type": "heatmap"
           }
          ],
          "heatmapgl": [
           {
            "colorbar": {
             "outlinewidth": 0,
             "ticks": ""
            },
            "colorscale": [
             [
              0,
              "#0d0887"
             ],
             [
              0.1111111111111111,
              "#46039f"
             ],
             [
              0.2222222222222222,
              "#7201a8"
             ],
             [
              0.3333333333333333,
              "#9c179e"
             ],
             [
              0.4444444444444444,
              "#bd3786"
             ],
             [
              0.5555555555555556,
              "#d8576b"
             ],
             [
              0.6666666666666666,
              "#ed7953"
             ],
             [
              0.7777777777777778,
              "#fb9f3a"
             ],
             [
              0.8888888888888888,
              "#fdca26"
             ],
             [
              1,
              "#f0f921"
             ]
            ],
            "type": "heatmapgl"
           }
          ],
          "histogram": [
           {
            "marker": {
             "colorbar": {
              "outlinewidth": 0,
              "ticks": ""
             }
            },
            "type": "histogram"
           }
          ],
          "histogram2d": [
           {
            "colorbar": {
             "outlinewidth": 0,
             "ticks": ""
            },
            "colorscale": [
             [
              0,
              "#0d0887"
             ],
             [
              0.1111111111111111,
              "#46039f"
             ],
             [
              0.2222222222222222,
              "#7201a8"
             ],
             [
              0.3333333333333333,
              "#9c179e"
             ],
             [
              0.4444444444444444,
              "#bd3786"
             ],
             [
              0.5555555555555556,
              "#d8576b"
             ],
             [
              0.6666666666666666,
              "#ed7953"
             ],
             [
              0.7777777777777778,
              "#fb9f3a"
             ],
             [
              0.8888888888888888,
              "#fdca26"
             ],
             [
              1,
              "#f0f921"
             ]
            ],
            "type": "histogram2d"
           }
          ],
          "histogram2dcontour": [
           {
            "colorbar": {
             "outlinewidth": 0,
             "ticks": ""
            },
            "colorscale": [
             [
              0,
              "#0d0887"
             ],
             [
              0.1111111111111111,
              "#46039f"
             ],
             [
              0.2222222222222222,
              "#7201a8"
             ],
             [
              0.3333333333333333,
              "#9c179e"
             ],
             [
              0.4444444444444444,
              "#bd3786"
             ],
             [
              0.5555555555555556,
              "#d8576b"
             ],
             [
              0.6666666666666666,
              "#ed7953"
             ],
             [
              0.7777777777777778,
              "#fb9f3a"
             ],
             [
              0.8888888888888888,
              "#fdca26"
             ],
             [
              1,
              "#f0f921"
             ]
            ],
            "type": "histogram2dcontour"
           }
          ],
          "mesh3d": [
           {
            "colorbar": {
             "outlinewidth": 0,
             "ticks": ""
            },
            "type": "mesh3d"
           }
          ],
          "parcoords": [
           {
            "line": {
             "colorbar": {
              "outlinewidth": 0,
              "ticks": ""
             }
            },
            "type": "parcoords"
           }
          ],
          "pie": [
           {
            "automargin": true,
            "type": "pie"
           }
          ],
          "scatter": [
           {
            "marker": {
             "colorbar": {
              "outlinewidth": 0,
              "ticks": ""
             }
            },
            "type": "scatter"
           }
          ],
          "scatter3d": [
           {
            "line": {
             "colorbar": {
              "outlinewidth": 0,
              "ticks": ""
             }
            },
            "marker": {
             "colorbar": {
              "outlinewidth": 0,
              "ticks": ""
             }
            },
            "type": "scatter3d"
           }
          ],
          "scattercarpet": [
           {
            "marker": {
             "colorbar": {
              "outlinewidth": 0,
              "ticks": ""
             }
            },
            "type": "scattercarpet"
           }
          ],
          "scattergeo": [
           {
            "marker": {
             "colorbar": {
              "outlinewidth": 0,
              "ticks": ""
             }
            },
            "type": "scattergeo"
           }
          ],
          "scattergl": [
           {
            "marker": {
             "colorbar": {
              "outlinewidth": 0,
              "ticks": ""
             }
            },
            "type": "scattergl"
           }
          ],
          "scattermapbox": [
           {
            "marker": {
             "colorbar": {
              "outlinewidth": 0,
              "ticks": ""
             }
            },
            "type": "scattermapbox"
           }
          ],
          "scatterpolar": [
           {
            "marker": {
             "colorbar": {
              "outlinewidth": 0,
              "ticks": ""
             }
            },
            "type": "scatterpolar"
           }
          ],
          "scatterpolargl": [
           {
            "marker": {
             "colorbar": {
              "outlinewidth": 0,
              "ticks": ""
             }
            },
            "type": "scatterpolargl"
           }
          ],
          "scatterternary": [
           {
            "marker": {
             "colorbar": {
              "outlinewidth": 0,
              "ticks": ""
             }
            },
            "type": "scatterternary"
           }
          ],
          "surface": [
           {
            "colorbar": {
             "outlinewidth": 0,
             "ticks": ""
            },
            "colorscale": [
             [
              0,
              "#0d0887"
             ],
             [
              0.1111111111111111,
              "#46039f"
             ],
             [
              0.2222222222222222,
              "#7201a8"
             ],
             [
              0.3333333333333333,
              "#9c179e"
             ],
             [
              0.4444444444444444,
              "#bd3786"
             ],
             [
              0.5555555555555556,
              "#d8576b"
             ],
             [
              0.6666666666666666,
              "#ed7953"
             ],
             [
              0.7777777777777778,
              "#fb9f3a"
             ],
             [
              0.8888888888888888,
              "#fdca26"
             ],
             [
              1,
              "#f0f921"
             ]
            ],
            "type": "surface"
           }
          ],
          "table": [
           {
            "cells": {
             "fill": {
              "color": "#EBF0F8"
             },
             "line": {
              "color": "white"
             }
            },
            "header": {
             "fill": {
              "color": "#C8D4E3"
             },
             "line": {
              "color": "white"
             }
            },
            "type": "table"
           }
          ]
         },
         "layout": {
          "annotationdefaults": {
           "arrowcolor": "#2a3f5f",
           "arrowhead": 0,
           "arrowwidth": 1
          },
          "coloraxis": {
           "colorbar": {
            "outlinewidth": 0,
            "ticks": ""
           }
          },
          "colorscale": {
           "diverging": [
            [
             0,
             "#8e0152"
            ],
            [
             0.1,
             "#c51b7d"
            ],
            [
             0.2,
             "#de77ae"
            ],
            [
             0.3,
             "#f1b6da"
            ],
            [
             0.4,
             "#fde0ef"
            ],
            [
             0.5,
             "#f7f7f7"
            ],
            [
             0.6,
             "#e6f5d0"
            ],
            [
             0.7,
             "#b8e186"
            ],
            [
             0.8,
             "#7fbc41"
            ],
            [
             0.9,
             "#4d9221"
            ],
            [
             1,
             "#276419"
            ]
           ],
           "sequential": [
            [
             0,
             "#0d0887"
            ],
            [
             0.1111111111111111,
             "#46039f"
            ],
            [
             0.2222222222222222,
             "#7201a8"
            ],
            [
             0.3333333333333333,
             "#9c179e"
            ],
            [
             0.4444444444444444,
             "#bd3786"
            ],
            [
             0.5555555555555556,
             "#d8576b"
            ],
            [
             0.6666666666666666,
             "#ed7953"
            ],
            [
             0.7777777777777778,
             "#fb9f3a"
            ],
            [
             0.8888888888888888,
             "#fdca26"
            ],
            [
             1,
             "#f0f921"
            ]
           ],
           "sequentialminus": [
            [
             0,
             "#0d0887"
            ],
            [
             0.1111111111111111,
             "#46039f"
            ],
            [
             0.2222222222222222,
             "#7201a8"
            ],
            [
             0.3333333333333333,
             "#9c179e"
            ],
            [
             0.4444444444444444,
             "#bd3786"
            ],
            [
             0.5555555555555556,
             "#d8576b"
            ],
            [
             0.6666666666666666,
             "#ed7953"
            ],
            [
             0.7777777777777778,
             "#fb9f3a"
            ],
            [
             0.8888888888888888,
             "#fdca26"
            ],
            [
             1,
             "#f0f921"
            ]
           ]
          },
          "colorway": [
           "#636efa",
           "#EF553B",
           "#00cc96",
           "#ab63fa",
           "#FFA15A",
           "#19d3f3",
           "#FF6692",
           "#B6E880",
           "#FF97FF",
           "#FECB52"
          ],
          "font": {
           "color": "#2a3f5f"
          },
          "geo": {
           "bgcolor": "white",
           "lakecolor": "white",
           "landcolor": "#E5ECF6",
           "showlakes": true,
           "showland": true,
           "subunitcolor": "white"
          },
          "hoverlabel": {
           "align": "left"
          },
          "hovermode": "closest",
          "mapbox": {
           "style": "light"
          },
          "paper_bgcolor": "white",
          "plot_bgcolor": "#E5ECF6",
          "polar": {
           "angularaxis": {
            "gridcolor": "white",
            "linecolor": "white",
            "ticks": ""
           },
           "bgcolor": "#E5ECF6",
           "radialaxis": {
            "gridcolor": "white",
            "linecolor": "white",
            "ticks": ""
           }
          },
          "scene": {
           "xaxis": {
            "backgroundcolor": "#E5ECF6",
            "gridcolor": "white",
            "gridwidth": 2,
            "linecolor": "white",
            "showbackground": true,
            "ticks": "",
            "zerolinecolor": "white"
           },
           "yaxis": {
            "backgroundcolor": "#E5ECF6",
            "gridcolor": "white",
            "gridwidth": 2,
            "linecolor": "white",
            "showbackground": true,
            "ticks": "",
            "zerolinecolor": "white"
           },
           "zaxis": {
            "backgroundcolor": "#E5ECF6",
            "gridcolor": "white",
            "gridwidth": 2,
            "linecolor": "white",
            "showbackground": true,
            "ticks": "",
            "zerolinecolor": "white"
           }
          },
          "shapedefaults": {
           "line": {
            "color": "#2a3f5f"
           }
          },
          "ternary": {
           "aaxis": {
            "gridcolor": "white",
            "linecolor": "white",
            "ticks": ""
           },
           "baxis": {
            "gridcolor": "white",
            "linecolor": "white",
            "ticks": ""
           },
           "bgcolor": "#E5ECF6",
           "caxis": {
            "gridcolor": "white",
            "linecolor": "white",
            "ticks": ""
           }
          },
          "title": {
           "x": 0.05
          },
          "xaxis": {
           "automargin": true,
           "gridcolor": "white",
           "linecolor": "white",
           "ticks": "",
           "title": {
            "standoff": 15
           },
           "zerolinecolor": "white",
           "zerolinewidth": 2
          },
          "yaxis": {
           "automargin": true,
           "gridcolor": "white",
           "linecolor": "white",
           "ticks": "",
           "title": {
            "standoff": 15
           },
           "zerolinecolor": "white",
           "zerolinewidth": 2
          }
         }
        },
        "title": {
         "font": {
          "color": "#4D5663"
         }
        },
        "xaxis": {
         "gridcolor": "#E1E5ED",
         "showgrid": true,
         "tickfont": {
          "color": "#4D5663"
         },
         "title": {
          "font": {
           "color": "#4D5663"
          },
          "text": ""
         },
         "zerolinecolor": "#E1E5ED"
        },
        "yaxis": {
         "gridcolor": "#E1E5ED",
         "showgrid": true,
         "tickfont": {
          "color": "#4D5663"
         },
         "title": {
          "font": {
           "color": "#4D5663"
          },
          "text": ""
         },
         "zerolinecolor": "#E1E5ED"
        }
       }
      },
      "text/html": [
       "<div>\n",
       "        \n",
       "        \n",
       "            <div id=\"ca303d8f-ad91-4337-8e7c-20536342aa93\" class=\"plotly-graph-div\" style=\"height:525px; width:100%;\"></div>\n",
       "            <script type=\"text/javascript\">\n",
       "                require([\"plotly\"], function(Plotly) {\n",
       "                    window.PLOTLYENV=window.PLOTLYENV || {};\n",
       "                    window.PLOTLYENV.BASE_URL='https://plot.ly';\n",
       "                    \n",
       "                if (document.getElementById(\"ca303d8f-ad91-4337-8e7c-20536342aa93\")) {\n",
       "                    Plotly.newPlot(\n",
       "                        'ca303d8f-ad91-4337-8e7c-20536342aa93',\n",
       "                        [{\"marker\": {\"color\": \"rgba(255, 153, 51, 0.6)\", \"line\": {\"color\": \"rgba(255, 153, 51, 1.0)\", \"width\": 1}}, \"name\": \"Active Cases\", \"orientation\": \"v\", \"text\": \"\", \"type\": \"bar\", \"x\": [\"Andaman and Nicobar Islands\", \"Andhra Pradesh\", \"Arunachal Pradesh\", \"Assam\", \"Bihar\", \"Chandigarh\", \"Chhattisgarh\", \"Dadar & Nagar Haveli; Daman & Diu\", \"Delhi\", \"Goa\", \"Gujarat\", \"Haryana\", \"Himachal Pradesh\", \"Jammu and Kashmir\", \"Jharkhand\", \"Karnataka\", \"Kerala\", \"Ladakh\", \"Lakshadweep\", \"Madhya Pradesh\", \"Maharashtra\", \"Manipur\", \"Meghalaya\", \"Mizoram\", \"Nagaland\", \"Odisha\", \"Puducherry\", \"Punjab\", \"Rajasthan\", \"Sikkim\", \"Tamil Nadu\", \"Telangana\", \"Tripura\", \"Uttar Pradesh\", \"Uttarakhand\", \"West Bengal\"], \"y\": [166, 69353, 2216, 30185, 13688, 2482, 35850, 217, 31125, 5822, 16322, 18889, 3977, 19451, 12841, 95568, 45993, 1038, 0, 22294, 274998, 2097, 2060, 664, 1146, 34494, 4853, 20679, 18993, 556, 46405, 30037, 6574, 61300, 11708, 25221]}],\n",
       "                        {\"legend\": {\"bgcolor\": \"#F5F6F9\", \"font\": {\"color\": \"#4D5663\"}}, \"paper_bgcolor\": \"#F5F6F9\", \"plot_bgcolor\": \"#F5F6F9\", \"template\": {\"data\": {\"bar\": [{\"error_x\": {\"color\": \"#2a3f5f\"}, \"error_y\": {\"color\": \"#2a3f5f\"}, \"marker\": {\"line\": {\"color\": \"#E5ECF6\", \"width\": 0.5}}, \"type\": \"bar\"}], \"barpolar\": [{\"marker\": {\"line\": {\"color\": \"#E5ECF6\", \"width\": 0.5}}, \"type\": \"barpolar\"}], \"carpet\": [{\"aaxis\": {\"endlinecolor\": \"#2a3f5f\", \"gridcolor\": \"white\", \"linecolor\": \"white\", \"minorgridcolor\": \"white\", \"startlinecolor\": \"#2a3f5f\"}, \"baxis\": {\"endlinecolor\": \"#2a3f5f\", \"gridcolor\": \"white\", \"linecolor\": \"white\", \"minorgridcolor\": \"white\", \"startlinecolor\": \"#2a3f5f\"}, \"type\": \"carpet\"}], \"choropleth\": [{\"colorbar\": {\"outlinewidth\": 0, \"ticks\": \"\"}, \"type\": \"choropleth\"}], \"contour\": [{\"colorbar\": {\"outlinewidth\": 0, \"ticks\": \"\"}, \"colorscale\": [[0.0, \"#0d0887\"], [0.1111111111111111, \"#46039f\"], [0.2222222222222222, \"#7201a8\"], [0.3333333333333333, \"#9c179e\"], [0.4444444444444444, \"#bd3786\"], [0.5555555555555556, \"#d8576b\"], [0.6666666666666666, \"#ed7953\"], [0.7777777777777778, \"#fb9f3a\"], [0.8888888888888888, \"#fdca26\"], [1.0, \"#f0f921\"]], \"type\": \"contour\"}], \"contourcarpet\": [{\"colorbar\": {\"outlinewidth\": 0, \"ticks\": \"\"}, \"type\": \"contourcarpet\"}], \"heatmap\": [{\"colorbar\": {\"outlinewidth\": 0, \"ticks\": \"\"}, \"colorscale\": [[0.0, \"#0d0887\"], [0.1111111111111111, \"#46039f\"], [0.2222222222222222, \"#7201a8\"], [0.3333333333333333, \"#9c179e\"], [0.4444444444444444, \"#bd3786\"], [0.5555555555555556, \"#d8576b\"], [0.6666666666666666, \"#ed7953\"], [0.7777777777777778, \"#fb9f3a\"], [0.8888888888888888, \"#fdca26\"], [1.0, \"#f0f921\"]], \"type\": \"heatmap\"}], \"heatmapgl\": [{\"colorbar\": {\"outlinewidth\": 0, \"ticks\": \"\"}, \"colorscale\": [[0.0, \"#0d0887\"], [0.1111111111111111, \"#46039f\"], [0.2222222222222222, \"#7201a8\"], [0.3333333333333333, \"#9c179e\"], [0.4444444444444444, \"#bd3786\"], [0.5555555555555556, \"#d8576b\"], [0.6666666666666666, \"#ed7953\"], [0.7777777777777778, \"#fb9f3a\"], [0.8888888888888888, \"#fdca26\"], [1.0, \"#f0f921\"]], \"type\": \"heatmapgl\"}], \"histogram\": [{\"marker\": {\"colorbar\": {\"outlinewidth\": 0, \"ticks\": \"\"}}, \"type\": \"histogram\"}], \"histogram2d\": [{\"colorbar\": {\"outlinewidth\": 0, \"ticks\": \"\"}, \"colorscale\": [[0.0, \"#0d0887\"], [0.1111111111111111, \"#46039f\"], [0.2222222222222222, \"#7201a8\"], [0.3333333333333333, \"#9c179e\"], [0.4444444444444444, \"#bd3786\"], [0.5555555555555556, \"#d8576b\"], [0.6666666666666666, \"#ed7953\"], [0.7777777777777778, \"#fb9f3a\"], [0.8888888888888888, \"#fdca26\"], [1.0, \"#f0f921\"]], \"type\": \"histogram2d\"}], \"histogram2dcontour\": [{\"colorbar\": {\"outlinewidth\": 0, \"ticks\": \"\"}, \"colorscale\": [[0.0, \"#0d0887\"], [0.1111111111111111, \"#46039f\"], [0.2222222222222222, \"#7201a8\"], [0.3333333333333333, \"#9c179e\"], [0.4444444444444444, \"#bd3786\"], [0.5555555555555556, \"#d8576b\"], [0.6666666666666666, \"#ed7953\"], [0.7777777777777778, \"#fb9f3a\"], [0.8888888888888888, \"#fdca26\"], [1.0, \"#f0f921\"]], \"type\": \"histogram2dcontour\"}], \"mesh3d\": [{\"colorbar\": {\"outlinewidth\": 0, \"ticks\": \"\"}, \"type\": \"mesh3d\"}], \"parcoords\": [{\"line\": {\"colorbar\": {\"outlinewidth\": 0, \"ticks\": \"\"}}, \"type\": \"parcoords\"}], \"pie\": [{\"automargin\": true, \"type\": \"pie\"}], \"scatter\": [{\"marker\": {\"colorbar\": {\"outlinewidth\": 0, \"ticks\": \"\"}}, \"type\": \"scatter\"}], \"scatter3d\": [{\"line\": {\"colorbar\": {\"outlinewidth\": 0, \"ticks\": \"\"}}, \"marker\": {\"colorbar\": {\"outlinewidth\": 0, \"ticks\": \"\"}}, \"type\": \"scatter3d\"}], \"scattercarpet\": [{\"marker\": {\"colorbar\": {\"outlinewidth\": 0, \"ticks\": \"\"}}, \"type\": \"scattercarpet\"}], \"scattergeo\": [{\"marker\": {\"colorbar\": {\"outlinewidth\": 0, \"ticks\": \"\"}}, \"type\": \"scattergeo\"}], \"scattergl\": [{\"marker\": {\"colorbar\": {\"outlinewidth\": 0, \"ticks\": \"\"}}, \"type\": \"scattergl\"}], \"scattermapbox\": [{\"marker\": {\"colorbar\": {\"outlinewidth\": 0, \"ticks\": \"\"}}, \"type\": \"scattermapbox\"}], \"scatterpolar\": [{\"marker\": {\"colorbar\": {\"outlinewidth\": 0, \"ticks\": \"\"}}, \"type\": \"scatterpolar\"}], \"scatterpolargl\": [{\"marker\": {\"colorbar\": {\"outlinewidth\": 0, \"ticks\": \"\"}}, \"type\": \"scatterpolargl\"}], \"scatterternary\": [{\"marker\": {\"colorbar\": {\"outlinewidth\": 0, \"ticks\": \"\"}}, \"type\": \"scatterternary\"}], \"surface\": [{\"colorbar\": {\"outlinewidth\": 0, \"ticks\": \"\"}, \"colorscale\": [[0.0, \"#0d0887\"], [0.1111111111111111, \"#46039f\"], [0.2222222222222222, \"#7201a8\"], [0.3333333333333333, \"#9c179e\"], [0.4444444444444444, \"#bd3786\"], [0.5555555555555556, \"#d8576b\"], [0.6666666666666666, \"#ed7953\"], [0.7777777777777778, \"#fb9f3a\"], [0.8888888888888888, \"#fdca26\"], [1.0, \"#f0f921\"]], \"type\": \"surface\"}], \"table\": [{\"cells\": {\"fill\": {\"color\": \"#EBF0F8\"}, \"line\": {\"color\": \"white\"}}, \"header\": {\"fill\": {\"color\": \"#C8D4E3\"}, \"line\": {\"color\": \"white\"}}, \"type\": \"table\"}]}, \"layout\": {\"annotationdefaults\": {\"arrowcolor\": \"#2a3f5f\", \"arrowhead\": 0, \"arrowwidth\": 1}, \"coloraxis\": {\"colorbar\": {\"outlinewidth\": 0, \"ticks\": \"\"}}, \"colorscale\": {\"diverging\": [[0, \"#8e0152\"], [0.1, \"#c51b7d\"], [0.2, \"#de77ae\"], [0.3, \"#f1b6da\"], [0.4, \"#fde0ef\"], [0.5, \"#f7f7f7\"], [0.6, \"#e6f5d0\"], [0.7, \"#b8e186\"], [0.8, \"#7fbc41\"], [0.9, \"#4d9221\"], [1, \"#276419\"]], \"sequential\": [[0.0, \"#0d0887\"], [0.1111111111111111, \"#46039f\"], [0.2222222222222222, \"#7201a8\"], [0.3333333333333333, \"#9c179e\"], [0.4444444444444444, \"#bd3786\"], [0.5555555555555556, \"#d8576b\"], [0.6666666666666666, \"#ed7953\"], [0.7777777777777778, \"#fb9f3a\"], [0.8888888888888888, \"#fdca26\"], [1.0, \"#f0f921\"]], \"sequentialminus\": [[0.0, \"#0d0887\"], [0.1111111111111111, \"#46039f\"], [0.2222222222222222, \"#7201a8\"], [0.3333333333333333, \"#9c179e\"], [0.4444444444444444, \"#bd3786\"], [0.5555555555555556, \"#d8576b\"], [0.6666666666666666, \"#ed7953\"], [0.7777777777777778, \"#fb9f3a\"], [0.8888888888888888, \"#fdca26\"], [1.0, \"#f0f921\"]]}, \"colorway\": [\"#636efa\", \"#EF553B\", \"#00cc96\", \"#ab63fa\", \"#FFA15A\", \"#19d3f3\", \"#FF6692\", \"#B6E880\", \"#FF97FF\", \"#FECB52\"], \"font\": {\"color\": \"#2a3f5f\"}, \"geo\": {\"bgcolor\": \"white\", \"lakecolor\": \"white\", \"landcolor\": \"#E5ECF6\", \"showlakes\": true, \"showland\": true, \"subunitcolor\": \"white\"}, \"hoverlabel\": {\"align\": \"left\"}, \"hovermode\": \"closest\", \"mapbox\": {\"style\": \"light\"}, \"paper_bgcolor\": \"white\", \"plot_bgcolor\": \"#E5ECF6\", \"polar\": {\"angularaxis\": {\"gridcolor\": \"white\", \"linecolor\": \"white\", \"ticks\": \"\"}, \"bgcolor\": \"#E5ECF6\", \"radialaxis\": {\"gridcolor\": \"white\", \"linecolor\": \"white\", \"ticks\": \"\"}}, \"scene\": {\"xaxis\": {\"backgroundcolor\": \"#E5ECF6\", \"gridcolor\": \"white\", \"gridwidth\": 2, \"linecolor\": \"white\", \"showbackground\": true, \"ticks\": \"\", \"zerolinecolor\": \"white\"}, \"yaxis\": {\"backgroundcolor\": \"#E5ECF6\", \"gridcolor\": \"white\", \"gridwidth\": 2, \"linecolor\": \"white\", \"showbackground\": true, \"ticks\": \"\", \"zerolinecolor\": \"white\"}, \"zaxis\": {\"backgroundcolor\": \"#E5ECF6\", \"gridcolor\": \"white\", \"gridwidth\": 2, \"linecolor\": \"white\", \"showbackground\": true, \"ticks\": \"\", \"zerolinecolor\": \"white\"}}, \"shapedefaults\": {\"line\": {\"color\": \"#2a3f5f\"}}, \"ternary\": {\"aaxis\": {\"gridcolor\": \"white\", \"linecolor\": \"white\", \"ticks\": \"\"}, \"baxis\": {\"gridcolor\": \"white\", \"linecolor\": \"white\", \"ticks\": \"\"}, \"bgcolor\": \"#E5ECF6\", \"caxis\": {\"gridcolor\": \"white\", \"linecolor\": \"white\", \"ticks\": \"\"}}, \"title\": {\"x\": 0.05}, \"xaxis\": {\"automargin\": true, \"gridcolor\": \"white\", \"linecolor\": \"white\", \"ticks\": \"\", \"title\": {\"standoff\": 15}, \"zerolinecolor\": \"white\", \"zerolinewidth\": 2}, \"yaxis\": {\"automargin\": true, \"gridcolor\": \"white\", \"linecolor\": \"white\", \"ticks\": \"\", \"title\": {\"standoff\": 15}, \"zerolinecolor\": \"white\", \"zerolinewidth\": 2}}}, \"title\": {\"font\": {\"color\": \"#4D5663\"}}, \"xaxis\": {\"gridcolor\": \"#E1E5ED\", \"showgrid\": true, \"tickfont\": {\"color\": \"#4D5663\"}, \"title\": {\"font\": {\"color\": \"#4D5663\"}, \"text\": \"\"}, \"zerolinecolor\": \"#E1E5ED\"}, \"yaxis\": {\"gridcolor\": \"#E1E5ED\", \"showgrid\": true, \"tickfont\": {\"color\": \"#4D5663\"}, \"title\": {\"font\": {\"color\": \"#4D5663\"}, \"text\": \"\"}, \"zerolinecolor\": \"#E1E5ED\"}},\n",
       "                        {\"showLink\": true, \"linkText\": \"Export to plot.ly\", \"plotlyServerURL\": \"https://plot.ly\", \"responsive\": true}\n",
       "                    ).then(function(){\n",
       "                            \n",
       "var gd = document.getElementById('ca303d8f-ad91-4337-8e7c-20536342aa93');\n",
       "var x = new MutationObserver(function (mutations, observer) {{\n",
       "        var display = window.getComputedStyle(gd).display;\n",
       "        if (!display || display === 'none') {{\n",
       "            console.log([gd, 'removed!']);\n",
       "            Plotly.purge(gd);\n",
       "            observer.disconnect();\n",
       "        }}\n",
       "}});\n",
       "\n",
       "// Listen for the removal of the full notebook cells\n",
       "var notebookContainer = gd.closest('#notebook-container');\n",
       "if (notebookContainer) {{\n",
       "    x.observe(notebookContainer, {childList: true});\n",
       "}}\n",
       "\n",
       "// Listen for the clearing of the current output cell\n",
       "var outputEl = gd.closest('.output');\n",
       "if (outputEl) {{\n",
       "    x.observe(outputEl, {childList: true});\n",
       "}}\n",
       "\n",
       "                        })\n",
       "                };\n",
       "                });\n",
       "            </script>\n",
       "        </div>"
      ]
     },
     "metadata": {},
     "output_type": "display_data"
    },
    {
     "data": {
      "image/png": "[encoded data removed]",
      "text/plain": [
       "<Figure size 432x288 with 1 Axes>"
      ]
     },
     "metadata": {
      "needs_background": "light"
     },
     "output_type": "display_data"
    }
   ],
   "source": [
    "#Pandas vis\n",
    "\n",
    "df.plot(kind='bar', x='State',y='Active Cases')\n",
    "\n",
    "#Plotly\n",
    "df.iplot(kind='bar',x='State',y='Active Cases')\n",
    "\n",
    "plt.show()"
   ]
  },
  {
   "cell_type": "code",
   "execution_count": null,
   "metadata": {
    "ExecuteTime": {
     "end_time": "2020-09-24T17:22:37.760951Z",
     "start_time": "2020-09-24T17:22:36.621427Z"
    }
   },
   "outputs": [],
   "source": []
  },
  {
   "cell_type": "code",
   "execution_count": null,
   "metadata": {
    "ExecuteTime": {
     "end_time": "2020-09-24T17:22:10.968118Z",
     "start_time": "2020-09-24T17:21:58.613Z"
    }
   },
   "outputs": [],
   "source": []
  },
  {
   "cell_type": "code",
   "execution_count": null,
   "metadata": {},
   "outputs": [],
   "source": []
  },
  {
   "cell_type": "code",
   "execution_count": null,
   "metadata": {},
   "outputs": [],
   "source": []
  }
 ],
 "metadata": {
  "hide_input": false,
  "kernelspec": {
   "display_name": "Python 3",
   "language": "python",
   "name": "python3"
  },
  "language_info": {
   "codemirror_mode": {
    "name": "ipython",
    "version": 3
   },
   "file_extension": ".py",
   "mimetype": "text/x-python",
   "name": "python",
   "nbconvert_exporter": "python",
   "pygments_lexer": "ipython3",
   "version": "3.7.6"
  }
 },
 "nbformat": 4,
 "nbformat_minor": 4
}
